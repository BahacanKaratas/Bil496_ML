{
 "cells": [
  {
   "cell_type": "code",
   "execution_count": null,
   "metadata": {},
   "outputs": [],
   "source": [
    "df=pd.read_csv(\"dataset2.csv\")\n",
    "df.rename(columns = {'UserID':'label',}, inplace = True)\n",
    "df.head()\n",
    "\n",
    "\n",
    "\"\"\"\"\n",
    "\n",
    "import pandas as pd\n",
    "import mysql.connector\n",
    "\n",
    "# Database connection parameters\n",
    "host = \"your_host\"\n",
    "port = 3306  # default MySQL port\n",
    "user = \"your_username\"\n",
    "password = \"your_password\"\n",
    "database = \"your_database_name\"\n",
    "\n",
    "# Establishing the connection\n",
    "conn = mysql.connector.connect(host=host, port=port, user=user, password=password, database=database)\n",
    "\n",
    "# SQL query\n",
    "query = \"SELECT column1, column2, column3 FROM your_table_name\"\n",
    "\n",
    "# Fetching data into DataFrame\n",
    "df = pd.read_sql(query, conn)\n",
    "\n",
    "# Renaming columns if necessary\n",
    "df.rename(columns={'Participants': 'label'}, inplace=True)\n",
    "\n",
    "# Display the first few rows of the DataFrame\n",
    "print(df.head())\n",
    "\n",
    "# Close the connection\n",
    "conn.close()\n",
    "\"\"\""
   ]
  }
 ],
 "metadata": {
  "kernelspec": {
   "display_name": "Python 3",
   "language": "python",
   "name": "python3"
  },
  "language_info": {
   "name": "python",
   "version": "3.10.11"
  }
 },
 "nbformat": 4,
 "nbformat_minor": 2
}
