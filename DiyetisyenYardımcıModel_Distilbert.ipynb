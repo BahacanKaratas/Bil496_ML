{
  "cells": [
    {
      "cell_type": "markdown",
      "metadata": {
        "id": "2PBgtwIizyMH"
      },
      "source": [
        "### Importing Libraries"
      ]
    },
    {
      "cell_type": "code",
      "execution_count": null,
      "metadata": {
        "id": "jecqF9ACzyMI"
      },
      "outputs": [],
      "source": [
        "import pandas as pd\n",
        "\n",
        "\n",
        "from transformers import AutoTokenizer, AutoModelForSequenceClassification, TrainingArguments, Trainer\n",
        "from datasets import Dataset\n",
        "from sklearn.model_selection import train_test_split\n",
        "from sklearn.preprocessing import LabelEncoder\n",
        "from sklearn.metrics import accuracy_score, precision_score, recall_score, f1_score\n",
        "from transformers import DataCollatorWithPadding\n",
        "import numpy as np\n",
        "\n",
        "\n",
        "from sklearn.linear_model import LogisticRegression\n",
        "from sklearn.naive_bayes import MultinomialNB\n",
        "from sklearn.svm import SVC\n",
        "from sklearn.neighbors import KNeighborsClassifier\n",
        "\n",
        "\n",
        "from sklearn.model_selection import train_test_split\n",
        "from sklearn.feature_extraction.text import TfidfVectorizer\n"
      ]
    },
    {
      "cell_type": "markdown",
      "metadata": {
        "id": "dklwdFbtzyMJ"
      },
      "source": [
        "# Step 1: Data Preparation"
      ]
    },
    {
      "cell_type": "markdown",
      "metadata": {
        "id": "LpHWmCKdzyMK"
      },
      "source": [
        "### Reading Csv File"
      ]
    },
    {
      "cell_type": "code",
      "execution_count": null,
      "metadata": {
        "id": "aJj0bCSGzyMK"
      },
      "outputs": [],
      "source": [
        "\n",
        "df=pd.read_csv(\"dataset2.csv\")\n",
        "df.rename(columns = {'UserID':'label',}, inplace = True)"
      ]
    },
    {
      "cell_type": "markdown",
      "metadata": {
        "id": "xPFvjWplzyMK"
      },
      "source": [
        "### Checking if the reading is complete"
      ]
    },
    {
      "cell_type": "code",
      "execution_count": null,
      "metadata": {
        "colab": {
          "base_uri": "https://localhost:8080/",
          "height": 206
        },
        "id": "8PxXQySWzyMK",
        "outputId": "f1903088-93b9-468f-9fa2-ec2cd1df0cea"
      },
      "outputs": [
        {
          "output_type": "execute_result",
          "data": {
            "text/plain": [
              "   label  Gender  Age  Height  Weight     ActivityLevel  GoalID  \\\n",
              "0  64759    Male   63     169      64     LightlyActive       3   \n",
              "1  22456   Other   35     155      60         Sedentary       9   \n",
              "2  63401   Other   19     156      62         Sedentary       5   \n",
              "3  72903    Male   24     151      75     LightlyActive       6   \n",
              "4  76338  Female   33     166      72  ModeratelyActive      10   \n",
              "\n",
              "   DietPreferenceID  RegionID  AllergenID  \n",
              "0                 2         5           7  \n",
              "1                 5        10           1  \n",
              "2                 4         6           4  \n",
              "3                 4         6           3  \n",
              "4                 1         2           2  "
            ],
            "text/html": [
              "\n",
              "  <div id=\"df-c1e29abd-47e7-4525-a50b-0923c0450535\" class=\"colab-df-container\">\n",
              "    <div>\n",
              "<style scoped>\n",
              "    .dataframe tbody tr th:only-of-type {\n",
              "        vertical-align: middle;\n",
              "    }\n",
              "\n",
              "    .dataframe tbody tr th {\n",
              "        vertical-align: top;\n",
              "    }\n",
              "\n",
              "    .dataframe thead th {\n",
              "        text-align: right;\n",
              "    }\n",
              "</style>\n",
              "<table border=\"1\" class=\"dataframe\">\n",
              "  <thead>\n",
              "    <tr style=\"text-align: right;\">\n",
              "      <th></th>\n",
              "      <th>label</th>\n",
              "      <th>Gender</th>\n",
              "      <th>Age</th>\n",
              "      <th>Height</th>\n",
              "      <th>Weight</th>\n",
              "      <th>ActivityLevel</th>\n",
              "      <th>GoalID</th>\n",
              "      <th>DietPreferenceID</th>\n",
              "      <th>RegionID</th>\n",
              "      <th>AllergenID</th>\n",
              "    </tr>\n",
              "  </thead>\n",
              "  <tbody>\n",
              "    <tr>\n",
              "      <th>0</th>\n",
              "      <td>64759</td>\n",
              "      <td>Male</td>\n",
              "      <td>63</td>\n",
              "      <td>169</td>\n",
              "      <td>64</td>\n",
              "      <td>LightlyActive</td>\n",
              "      <td>3</td>\n",
              "      <td>2</td>\n",
              "      <td>5</td>\n",
              "      <td>7</td>\n",
              "    </tr>\n",
              "    <tr>\n",
              "      <th>1</th>\n",
              "      <td>22456</td>\n",
              "      <td>Other</td>\n",
              "      <td>35</td>\n",
              "      <td>155</td>\n",
              "      <td>60</td>\n",
              "      <td>Sedentary</td>\n",
              "      <td>9</td>\n",
              "      <td>5</td>\n",
              "      <td>10</td>\n",
              "      <td>1</td>\n",
              "    </tr>\n",
              "    <tr>\n",
              "      <th>2</th>\n",
              "      <td>63401</td>\n",
              "      <td>Other</td>\n",
              "      <td>19</td>\n",
              "      <td>156</td>\n",
              "      <td>62</td>\n",
              "      <td>Sedentary</td>\n",
              "      <td>5</td>\n",
              "      <td>4</td>\n",
              "      <td>6</td>\n",
              "      <td>4</td>\n",
              "    </tr>\n",
              "    <tr>\n",
              "      <th>3</th>\n",
              "      <td>72903</td>\n",
              "      <td>Male</td>\n",
              "      <td>24</td>\n",
              "      <td>151</td>\n",
              "      <td>75</td>\n",
              "      <td>LightlyActive</td>\n",
              "      <td>6</td>\n",
              "      <td>4</td>\n",
              "      <td>6</td>\n",
              "      <td>3</td>\n",
              "    </tr>\n",
              "    <tr>\n",
              "      <th>4</th>\n",
              "      <td>76338</td>\n",
              "      <td>Female</td>\n",
              "      <td>33</td>\n",
              "      <td>166</td>\n",
              "      <td>72</td>\n",
              "      <td>ModeratelyActive</td>\n",
              "      <td>10</td>\n",
              "      <td>1</td>\n",
              "      <td>2</td>\n",
              "      <td>2</td>\n",
              "    </tr>\n",
              "  </tbody>\n",
              "</table>\n",
              "</div>\n",
              "    <div class=\"colab-df-buttons\">\n",
              "\n",
              "  <div class=\"colab-df-container\">\n",
              "    <button class=\"colab-df-convert\" onclick=\"convertToInteractive('df-c1e29abd-47e7-4525-a50b-0923c0450535')\"\n",
              "            title=\"Convert this dataframe to an interactive table.\"\n",
              "            style=\"display:none;\">\n",
              "\n",
              "  <svg xmlns=\"http://www.w3.org/2000/svg\" height=\"24px\" viewBox=\"0 -960 960 960\">\n",
              "    <path d=\"M120-120v-720h720v720H120Zm60-500h600v-160H180v160Zm220 220h160v-160H400v160Zm0 220h160v-160H400v160ZM180-400h160v-160H180v160Zm440 0h160v-160H620v160ZM180-180h160v-160H180v160Zm440 0h160v-160H620v160Z\"/>\n",
              "  </svg>\n",
              "    </button>\n",
              "\n",
              "  <style>\n",
              "    .colab-df-container {\n",
              "      display:flex;\n",
              "      gap: 12px;\n",
              "    }\n",
              "\n",
              "    .colab-df-convert {\n",
              "      background-color: #E8F0FE;\n",
              "      border: none;\n",
              "      border-radius: 50%;\n",
              "      cursor: pointer;\n",
              "      display: none;\n",
              "      fill: #1967D2;\n",
              "      height: 32px;\n",
              "      padding: 0 0 0 0;\n",
              "      width: 32px;\n",
              "    }\n",
              "\n",
              "    .colab-df-convert:hover {\n",
              "      background-color: #E2EBFA;\n",
              "      box-shadow: 0px 1px 2px rgba(60, 64, 67, 0.3), 0px 1px 3px 1px rgba(60, 64, 67, 0.15);\n",
              "      fill: #174EA6;\n",
              "    }\n",
              "\n",
              "    .colab-df-buttons div {\n",
              "      margin-bottom: 4px;\n",
              "    }\n",
              "\n",
              "    [theme=dark] .colab-df-convert {\n",
              "      background-color: #3B4455;\n",
              "      fill: #D2E3FC;\n",
              "    }\n",
              "\n",
              "    [theme=dark] .colab-df-convert:hover {\n",
              "      background-color: #434B5C;\n",
              "      box-shadow: 0px 1px 3px 1px rgba(0, 0, 0, 0.15);\n",
              "      filter: drop-shadow(0px 1px 2px rgba(0, 0, 0, 0.3));\n",
              "      fill: #FFFFFF;\n",
              "    }\n",
              "  </style>\n",
              "\n",
              "    <script>\n",
              "      const buttonEl =\n",
              "        document.querySelector('#df-c1e29abd-47e7-4525-a50b-0923c0450535 button.colab-df-convert');\n",
              "      buttonEl.style.display =\n",
              "        google.colab.kernel.accessAllowed ? 'block' : 'none';\n",
              "\n",
              "      async function convertToInteractive(key) {\n",
              "        const element = document.querySelector('#df-c1e29abd-47e7-4525-a50b-0923c0450535');\n",
              "        const dataTable =\n",
              "          await google.colab.kernel.invokeFunction('convertToInteractive',\n",
              "                                                    [key], {});\n",
              "        if (!dataTable) return;\n",
              "\n",
              "        const docLinkHtml = 'Like what you see? Visit the ' +\n",
              "          '<a target=\"_blank\" href=https://colab.research.google.com/notebooks/data_table.ipynb>data table notebook</a>'\n",
              "          + ' to learn more about interactive tables.';\n",
              "        element.innerHTML = '';\n",
              "        dataTable['output_type'] = 'display_data';\n",
              "        await google.colab.output.renderOutput(dataTable, element);\n",
              "        const docLink = document.createElement('div');\n",
              "        docLink.innerHTML = docLinkHtml;\n",
              "        element.appendChild(docLink);\n",
              "      }\n",
              "    </script>\n",
              "  </div>\n",
              "\n",
              "\n",
              "<div id=\"df-9e04919b-98b4-46fe-931b-8819ca7c40aa\">\n",
              "  <button class=\"colab-df-quickchart\" onclick=\"quickchart('df-9e04919b-98b4-46fe-931b-8819ca7c40aa')\"\n",
              "            title=\"Suggest charts\"\n",
              "            style=\"display:none;\">\n",
              "\n",
              "<svg xmlns=\"http://www.w3.org/2000/svg\" height=\"24px\"viewBox=\"0 0 24 24\"\n",
              "     width=\"24px\">\n",
              "    <g>\n",
              "        <path d=\"M19 3H5c-1.1 0-2 .9-2 2v14c0 1.1.9 2 2 2h14c1.1 0 2-.9 2-2V5c0-1.1-.9-2-2-2zM9 17H7v-7h2v7zm4 0h-2V7h2v10zm4 0h-2v-4h2v4z\"/>\n",
              "    </g>\n",
              "</svg>\n",
              "  </button>\n",
              "\n",
              "<style>\n",
              "  .colab-df-quickchart {\n",
              "      --bg-color: #E8F0FE;\n",
              "      --fill-color: #1967D2;\n",
              "      --hover-bg-color: #E2EBFA;\n",
              "      --hover-fill-color: #174EA6;\n",
              "      --disabled-fill-color: #AAA;\n",
              "      --disabled-bg-color: #DDD;\n",
              "  }\n",
              "\n",
              "  [theme=dark] .colab-df-quickchart {\n",
              "      --bg-color: #3B4455;\n",
              "      --fill-color: #D2E3FC;\n",
              "      --hover-bg-color: #434B5C;\n",
              "      --hover-fill-color: #FFFFFF;\n",
              "      --disabled-bg-color: #3B4455;\n",
              "      --disabled-fill-color: #666;\n",
              "  }\n",
              "\n",
              "  .colab-df-quickchart {\n",
              "    background-color: var(--bg-color);\n",
              "    border: none;\n",
              "    border-radius: 50%;\n",
              "    cursor: pointer;\n",
              "    display: none;\n",
              "    fill: var(--fill-color);\n",
              "    height: 32px;\n",
              "    padding: 0;\n",
              "    width: 32px;\n",
              "  }\n",
              "\n",
              "  .colab-df-quickchart:hover {\n",
              "    background-color: var(--hover-bg-color);\n",
              "    box-shadow: 0 1px 2px rgba(60, 64, 67, 0.3), 0 1px 3px 1px rgba(60, 64, 67, 0.15);\n",
              "    fill: var(--button-hover-fill-color);\n",
              "  }\n",
              "\n",
              "  .colab-df-quickchart-complete:disabled,\n",
              "  .colab-df-quickchart-complete:disabled:hover {\n",
              "    background-color: var(--disabled-bg-color);\n",
              "    fill: var(--disabled-fill-color);\n",
              "    box-shadow: none;\n",
              "  }\n",
              "\n",
              "  .colab-df-spinner {\n",
              "    border: 2px solid var(--fill-color);\n",
              "    border-color: transparent;\n",
              "    border-bottom-color: var(--fill-color);\n",
              "    animation:\n",
              "      spin 1s steps(1) infinite;\n",
              "  }\n",
              "\n",
              "  @keyframes spin {\n",
              "    0% {\n",
              "      border-color: transparent;\n",
              "      border-bottom-color: var(--fill-color);\n",
              "      border-left-color: var(--fill-color);\n",
              "    }\n",
              "    20% {\n",
              "      border-color: transparent;\n",
              "      border-left-color: var(--fill-color);\n",
              "      border-top-color: var(--fill-color);\n",
              "    }\n",
              "    30% {\n",
              "      border-color: transparent;\n",
              "      border-left-color: var(--fill-color);\n",
              "      border-top-color: var(--fill-color);\n",
              "      border-right-color: var(--fill-color);\n",
              "    }\n",
              "    40% {\n",
              "      border-color: transparent;\n",
              "      border-right-color: var(--fill-color);\n",
              "      border-top-color: var(--fill-color);\n",
              "    }\n",
              "    60% {\n",
              "      border-color: transparent;\n",
              "      border-right-color: var(--fill-color);\n",
              "    }\n",
              "    80% {\n",
              "      border-color: transparent;\n",
              "      border-right-color: var(--fill-color);\n",
              "      border-bottom-color: var(--fill-color);\n",
              "    }\n",
              "    90% {\n",
              "      border-color: transparent;\n",
              "      border-bottom-color: var(--fill-color);\n",
              "    }\n",
              "  }\n",
              "</style>\n",
              "\n",
              "  <script>\n",
              "    async function quickchart(key) {\n",
              "      const quickchartButtonEl =\n",
              "        document.querySelector('#' + key + ' button');\n",
              "      quickchartButtonEl.disabled = true;  // To prevent multiple clicks.\n",
              "      quickchartButtonEl.classList.add('colab-df-spinner');\n",
              "      try {\n",
              "        const charts = await google.colab.kernel.invokeFunction(\n",
              "            'suggestCharts', [key], {});\n",
              "      } catch (error) {\n",
              "        console.error('Error during call to suggestCharts:', error);\n",
              "      }\n",
              "      quickchartButtonEl.classList.remove('colab-df-spinner');\n",
              "      quickchartButtonEl.classList.add('colab-df-quickchart-complete');\n",
              "    }\n",
              "    (() => {\n",
              "      let quickchartButtonEl =\n",
              "        document.querySelector('#df-9e04919b-98b4-46fe-931b-8819ca7c40aa button');\n",
              "      quickchartButtonEl.style.display =\n",
              "        google.colab.kernel.accessAllowed ? 'block' : 'none';\n",
              "    })();\n",
              "  </script>\n",
              "</div>\n",
              "\n",
              "    </div>\n",
              "  </div>\n"
            ],
            "application/vnd.google.colaboratory.intrinsic+json": {
              "type": "dataframe",
              "variable_name": "df",
              "summary": "{\n  \"name\": \"df\",\n  \"rows\": 5000,\n  \"fields\": [\n    {\n      \"column\": \"label\",\n      \"properties\": {\n        \"dtype\": \"number\",\n        \"std\": 25905,\n        \"min\": 10124,\n        \"max\": 99977,\n        \"num_unique_values\": 5000,\n        \"samples\": [\n          20163,\n          51255,\n          58000\n        ],\n        \"semantic_type\": \"\",\n        \"description\": \"\"\n      }\n    },\n    {\n      \"column\": \"Gender\",\n      \"properties\": {\n        \"dtype\": \"category\",\n        \"num_unique_values\": 3,\n        \"samples\": [\n          \"Male\",\n          \"Other\",\n          \"Female\"\n        ],\n        \"semantic_type\": \"\",\n        \"description\": \"\"\n      }\n    },\n    {\n      \"column\": \"Age\",\n      \"properties\": {\n        \"dtype\": \"number\",\n        \"std\": 13,\n        \"min\": 18,\n        \"max\": 64,\n        \"num_unique_values\": 47,\n        \"samples\": [\n          49,\n          30,\n          21\n        ],\n        \"semantic_type\": \"\",\n        \"description\": \"\"\n      }\n    },\n    {\n      \"column\": \"Height\",\n      \"properties\": {\n        \"dtype\": \"number\",\n        \"std\": 14,\n        \"min\": 150,\n        \"max\": 199,\n        \"num_unique_values\": 50,\n        \"samples\": [\n          172,\n          184,\n          171\n        ],\n        \"semantic_type\": \"\",\n        \"description\": \"\"\n      }\n    },\n    {\n      \"column\": \"Weight\",\n      \"properties\": {\n        \"dtype\": \"number\",\n        \"std\": 14,\n        \"min\": 50,\n        \"max\": 99,\n        \"num_unique_values\": 50,\n        \"samples\": [\n          77,\n          85,\n          56\n        ],\n        \"semantic_type\": \"\",\n        \"description\": \"\"\n      }\n    },\n    {\n      \"column\": \"ActivityLevel\",\n      \"properties\": {\n        \"dtype\": \"category\",\n        \"num_unique_values\": 4,\n        \"samples\": [\n          \"Sedentary\",\n          \"VeryActive\",\n          \"LightlyActive\"\n        ],\n        \"semantic_type\": \"\",\n        \"description\": \"\"\n      }\n    },\n    {\n      \"column\": \"GoalID\",\n      \"properties\": {\n        \"dtype\": \"number\",\n        \"std\": 2,\n        \"min\": 1,\n        \"max\": 10,\n        \"num_unique_values\": 10,\n        \"samples\": [\n          8,\n          9,\n          7\n        ],\n        \"semantic_type\": \"\",\n        \"description\": \"\"\n      }\n    },\n    {\n      \"column\": \"DietPreferenceID\",\n      \"properties\": {\n        \"dtype\": \"number\",\n        \"std\": 1,\n        \"min\": 1,\n        \"max\": 5,\n        \"num_unique_values\": 5,\n        \"samples\": [\n          5,\n          3,\n          4\n        ],\n        \"semantic_type\": \"\",\n        \"description\": \"\"\n      }\n    },\n    {\n      \"column\": \"RegionID\",\n      \"properties\": {\n        \"dtype\": \"number\",\n        \"std\": 2,\n        \"min\": 1,\n        \"max\": 10,\n        \"num_unique_values\": 10,\n        \"samples\": [\n          7,\n          10,\n          1\n        ],\n        \"semantic_type\": \"\",\n        \"description\": \"\"\n      }\n    },\n    {\n      \"column\": \"AllergenID\",\n      \"properties\": {\n        \"dtype\": \"number\",\n        \"std\": 2,\n        \"min\": 1,\n        \"max\": 10,\n        \"num_unique_values\": 10,\n        \"samples\": [\n          6,\n          1,\n          10\n        ],\n        \"semantic_type\": \"\",\n        \"description\": \"\"\n      }\n    }\n  ]\n}"
            }
          },
          "metadata": {},
          "execution_count": 3
        }
      ],
      "source": [
        "df.head()"
      ]
    },
    {
      "cell_type": "markdown",
      "metadata": {
        "id": "F22w0BEXzyMK"
      },
      "source": [
        "### Combining Columns to Text for NLP models"
      ]
    },
    {
      "cell_type": "code",
      "execution_count": null,
      "metadata": {
        "id": "zGlv0DuAzyMK"
      },
      "outputs": [],
      "source": [
        "def combine_columns_to_text(df, exclude_columns=None, column_weights=None):\n",
        "    if exclude_columns is None:\n",
        "        exclude_columns = []\n",
        "    if column_weights is None:\n",
        "        column_weights = {}\n",
        "    if df.empty:\n",
        "        return pd.DataFrame(columns=['text', 'label'])\n",
        "\n",
        "    # Store the 'label' column if it exists and is not in the exclude list\n",
        "    label_col = df['label'] if 'label' in df.columns and 'label' not in exclude_columns else None\n",
        "\n",
        "    # Drop the columns that need to be excluded\n",
        "    df_combined = df.drop(columns=exclude_columns, errors='ignore')\n",
        "\n",
        "    # Apply weighting to specified columns by repeating their contents along with the column name\n",
        "    for column, weight in column_weights.items():\n",
        "        if column in df_combined.columns:\n",
        "            df_combined[column] = df_combined[column].apply(\n",
        "                lambda x: (' '.join([f\"{column}:{x}\"] * weight)) if pd.notnull(x) else ''\n",
        "            )\n",
        "\n",
        "    # Combine all columns into a single column\n",
        "    df_combined['text'] = df_combined.apply(lambda row: ' '.join(row.dropna().astype(str)), axis=1)\n",
        "\n",
        "    # Include the 'label' column in the result if it was stored\n",
        "    if label_col is not None:\n",
        "        df_combined['label'] = label_col\n",
        "\n",
        "    # Return the DataFrame with the 'text' and 'label' columns\n",
        "    return df_combined[['text', 'label']] if label_col is not None else df_combined[['text']]\n"
      ]
    },
    {
      "cell_type": "markdown",
      "metadata": {
        "id": "0P6v9dGFzyML"
      },
      "source": [
        "### Simpler version of combining for later evaluation of text similarity\n"
      ]
    },
    {
      "cell_type": "code",
      "execution_count": null,
      "metadata": {
        "id": "Hw5mqGVSzyML"
      },
      "outputs": [],
      "source": [
        "def combine_columns_to_text_simple(df, exclude_columns=None):\n",
        "    if exclude_columns is None:\n",
        "        exclude_columns = []\n",
        "    if df.empty:\n",
        "        return pd.DataFrame(columns=['text', 'label'])\n",
        "\n",
        "    # Store the 'label' column if it exists and is not in the exclude list\n",
        "    label_col = df['label'] if 'label' in df.columns and 'label' not in exclude_columns else None\n",
        "\n",
        "    # Drop the columns that need to be excluded\n",
        "    df_combined = df.drop(columns=exclude_columns, errors='ignore')\n",
        "\n",
        "    # Combine column names and values into a single column by concatenating the text from each column with its column name\n",
        "    df_combined['text'] = df_combined.apply(lambda row: ' '.join([f\"{col}:{val}\" for col, val in row.dropna().items()]), axis=1)\n",
        "\n",
        "    # Include the 'label' column in the result if it was stored\n",
        "    if label_col is not None:\n",
        "        df_combined['label'] = label_col\n",
        "\n",
        "    # Return the DataFrame with the 'text' and 'label' columns\n",
        "    return df_combined[['text', 'label']] if label_col is not None else df_combined[['text']]\n"
      ]
    },
    {
      "cell_type": "markdown",
      "metadata": {
        "id": "kbRpDTtqzyML"
      },
      "source": [
        "### Adjusting importance/weights of the parameters in te text\n",
        "- by adding more textual signifigance to the data for it"
      ]
    },
    {
      "cell_type": "code",
      "execution_count": null,
      "metadata": {
        "id": "fQZr49wrzyML"
      },
      "outputs": [],
      "source": [
        "# Define weights for each column\n",
        "column_weights = {\n",
        "    'Username': 0,\n",
        "    'Email': 0,\n",
        "    'Gender': 0,\n",
        "    'Age': 0,\n",
        "    'Height': 0,\n",
        "    'Weight': 0,\n",
        "    'ActivityLevel': 15,\n",
        "    'GoalID': 10,\n",
        "    'DietPreferenceID': 15,\n",
        "    'RegionID': 15,\n",
        "    'AllergenID': 30  # Higher weight for AllergenID\n",
        "}\n",
        "\n",
        "# Combine columns with specified weights\n",
        "generalDataframe = combine_columns_to_text(df, exclude_columns=['DietID'], column_weights=column_weights)\n",
        "generalDataframe2=combine_columns_to_text_simple(df,exclude_columns=['DietID','Email','Username'])\n"
      ]
    },
    {
      "cell_type": "markdown",
      "metadata": {
        "id": "Z1XS7KeOzyMM"
      },
      "source": [
        "### Checking if the format is correct"
      ]
    },
    {
      "cell_type": "code",
      "execution_count": null,
      "metadata": {
        "colab": {
          "base_uri": "https://localhost:8080/",
          "height": 206
        },
        "id": "ndgp0ckLzyMM",
        "outputId": "f957e51b-87b5-4691-dd9c-e93b2b68f6bc"
      },
      "outputs": [
        {
          "output_type": "execute_result",
          "data": {
            "text/plain": [
              "                                                text  label\n",
              "0  64759     ActivityLevel:LightlyActive Activity...  64759\n",
              "1  22456     ActivityLevel:Sedentary ActivityLeve...  22456\n",
              "2  63401     ActivityLevel:Sedentary ActivityLeve...  63401\n",
              "3  72903     ActivityLevel:LightlyActive Activity...  72903\n",
              "4  76338     ActivityLevel:ModeratelyActive Activ...  76338"
            ],
            "text/html": [
              "\n",
              "  <div id=\"df-629d9974-2351-4ba9-acd1-795e45128ac3\" class=\"colab-df-container\">\n",
              "    <div>\n",
              "<style scoped>\n",
              "    .dataframe tbody tr th:only-of-type {\n",
              "        vertical-align: middle;\n",
              "    }\n",
              "\n",
              "    .dataframe tbody tr th {\n",
              "        vertical-align: top;\n",
              "    }\n",
              "\n",
              "    .dataframe thead th {\n",
              "        text-align: right;\n",
              "    }\n",
              "</style>\n",
              "<table border=\"1\" class=\"dataframe\">\n",
              "  <thead>\n",
              "    <tr style=\"text-align: right;\">\n",
              "      <th></th>\n",
              "      <th>text</th>\n",
              "      <th>label</th>\n",
              "    </tr>\n",
              "  </thead>\n",
              "  <tbody>\n",
              "    <tr>\n",
              "      <th>0</th>\n",
              "      <td>64759     ActivityLevel:LightlyActive Activity...</td>\n",
              "      <td>64759</td>\n",
              "    </tr>\n",
              "    <tr>\n",
              "      <th>1</th>\n",
              "      <td>22456     ActivityLevel:Sedentary ActivityLeve...</td>\n",
              "      <td>22456</td>\n",
              "    </tr>\n",
              "    <tr>\n",
              "      <th>2</th>\n",
              "      <td>63401     ActivityLevel:Sedentary ActivityLeve...</td>\n",
              "      <td>63401</td>\n",
              "    </tr>\n",
              "    <tr>\n",
              "      <th>3</th>\n",
              "      <td>72903     ActivityLevel:LightlyActive Activity...</td>\n",
              "      <td>72903</td>\n",
              "    </tr>\n",
              "    <tr>\n",
              "      <th>4</th>\n",
              "      <td>76338     ActivityLevel:ModeratelyActive Activ...</td>\n",
              "      <td>76338</td>\n",
              "    </tr>\n",
              "  </tbody>\n",
              "</table>\n",
              "</div>\n",
              "    <div class=\"colab-df-buttons\">\n",
              "\n",
              "  <div class=\"colab-df-container\">\n",
              "    <button class=\"colab-df-convert\" onclick=\"convertToInteractive('df-629d9974-2351-4ba9-acd1-795e45128ac3')\"\n",
              "            title=\"Convert this dataframe to an interactive table.\"\n",
              "            style=\"display:none;\">\n",
              "\n",
              "  <svg xmlns=\"http://www.w3.org/2000/svg\" height=\"24px\" viewBox=\"0 -960 960 960\">\n",
              "    <path d=\"M120-120v-720h720v720H120Zm60-500h600v-160H180v160Zm220 220h160v-160H400v160Zm0 220h160v-160H400v160ZM180-400h160v-160H180v160Zm440 0h160v-160H620v160ZM180-180h160v-160H180v160Zm440 0h160v-160H620v160Z\"/>\n",
              "  </svg>\n",
              "    </button>\n",
              "\n",
              "  <style>\n",
              "    .colab-df-container {\n",
              "      display:flex;\n",
              "      gap: 12px;\n",
              "    }\n",
              "\n",
              "    .colab-df-convert {\n",
              "      background-color: #E8F0FE;\n",
              "      border: none;\n",
              "      border-radius: 50%;\n",
              "      cursor: pointer;\n",
              "      display: none;\n",
              "      fill: #1967D2;\n",
              "      height: 32px;\n",
              "      padding: 0 0 0 0;\n",
              "      width: 32px;\n",
              "    }\n",
              "\n",
              "    .colab-df-convert:hover {\n",
              "      background-color: #E2EBFA;\n",
              "      box-shadow: 0px 1px 2px rgba(60, 64, 67, 0.3), 0px 1px 3px 1px rgba(60, 64, 67, 0.15);\n",
              "      fill: #174EA6;\n",
              "    }\n",
              "\n",
              "    .colab-df-buttons div {\n",
              "      margin-bottom: 4px;\n",
              "    }\n",
              "\n",
              "    [theme=dark] .colab-df-convert {\n",
              "      background-color: #3B4455;\n",
              "      fill: #D2E3FC;\n",
              "    }\n",
              "\n",
              "    [theme=dark] .colab-df-convert:hover {\n",
              "      background-color: #434B5C;\n",
              "      box-shadow: 0px 1px 3px 1px rgba(0, 0, 0, 0.15);\n",
              "      filter: drop-shadow(0px 1px 2px rgba(0, 0, 0, 0.3));\n",
              "      fill: #FFFFFF;\n",
              "    }\n",
              "  </style>\n",
              "\n",
              "    <script>\n",
              "      const buttonEl =\n",
              "        document.querySelector('#df-629d9974-2351-4ba9-acd1-795e45128ac3 button.colab-df-convert');\n",
              "      buttonEl.style.display =\n",
              "        google.colab.kernel.accessAllowed ? 'block' : 'none';\n",
              "\n",
              "      async function convertToInteractive(key) {\n",
              "        const element = document.querySelector('#df-629d9974-2351-4ba9-acd1-795e45128ac3');\n",
              "        const dataTable =\n",
              "          await google.colab.kernel.invokeFunction('convertToInteractive',\n",
              "                                                    [key], {});\n",
              "        if (!dataTable) return;\n",
              "\n",
              "        const docLinkHtml = 'Like what you see? Visit the ' +\n",
              "          '<a target=\"_blank\" href=https://colab.research.google.com/notebooks/data_table.ipynb>data table notebook</a>'\n",
              "          + ' to learn more about interactive tables.';\n",
              "        element.innerHTML = '';\n",
              "        dataTable['output_type'] = 'display_data';\n",
              "        await google.colab.output.renderOutput(dataTable, element);\n",
              "        const docLink = document.createElement('div');\n",
              "        docLink.innerHTML = docLinkHtml;\n",
              "        element.appendChild(docLink);\n",
              "      }\n",
              "    </script>\n",
              "  </div>\n",
              "\n",
              "\n",
              "<div id=\"df-6a53b376-8c99-4275-9fac-202a7457e01c\">\n",
              "  <button class=\"colab-df-quickchart\" onclick=\"quickchart('df-6a53b376-8c99-4275-9fac-202a7457e01c')\"\n",
              "            title=\"Suggest charts\"\n",
              "            style=\"display:none;\">\n",
              "\n",
              "<svg xmlns=\"http://www.w3.org/2000/svg\" height=\"24px\"viewBox=\"0 0 24 24\"\n",
              "     width=\"24px\">\n",
              "    <g>\n",
              "        <path d=\"M19 3H5c-1.1 0-2 .9-2 2v14c0 1.1.9 2 2 2h14c1.1 0 2-.9 2-2V5c0-1.1-.9-2-2-2zM9 17H7v-7h2v7zm4 0h-2V7h2v10zm4 0h-2v-4h2v4z\"/>\n",
              "    </g>\n",
              "</svg>\n",
              "  </button>\n",
              "\n",
              "<style>\n",
              "  .colab-df-quickchart {\n",
              "      --bg-color: #E8F0FE;\n",
              "      --fill-color: #1967D2;\n",
              "      --hover-bg-color: #E2EBFA;\n",
              "      --hover-fill-color: #174EA6;\n",
              "      --disabled-fill-color: #AAA;\n",
              "      --disabled-bg-color: #DDD;\n",
              "  }\n",
              "\n",
              "  [theme=dark] .colab-df-quickchart {\n",
              "      --bg-color: #3B4455;\n",
              "      --fill-color: #D2E3FC;\n",
              "      --hover-bg-color: #434B5C;\n",
              "      --hover-fill-color: #FFFFFF;\n",
              "      --disabled-bg-color: #3B4455;\n",
              "      --disabled-fill-color: #666;\n",
              "  }\n",
              "\n",
              "  .colab-df-quickchart {\n",
              "    background-color: var(--bg-color);\n",
              "    border: none;\n",
              "    border-radius: 50%;\n",
              "    cursor: pointer;\n",
              "    display: none;\n",
              "    fill: var(--fill-color);\n",
              "    height: 32px;\n",
              "    padding: 0;\n",
              "    width: 32px;\n",
              "  }\n",
              "\n",
              "  .colab-df-quickchart:hover {\n",
              "    background-color: var(--hover-bg-color);\n",
              "    box-shadow: 0 1px 2px rgba(60, 64, 67, 0.3), 0 1px 3px 1px rgba(60, 64, 67, 0.15);\n",
              "    fill: var(--button-hover-fill-color);\n",
              "  }\n",
              "\n",
              "  .colab-df-quickchart-complete:disabled,\n",
              "  .colab-df-quickchart-complete:disabled:hover {\n",
              "    background-color: var(--disabled-bg-color);\n",
              "    fill: var(--disabled-fill-color);\n",
              "    box-shadow: none;\n",
              "  }\n",
              "\n",
              "  .colab-df-spinner {\n",
              "    border: 2px solid var(--fill-color);\n",
              "    border-color: transparent;\n",
              "    border-bottom-color: var(--fill-color);\n",
              "    animation:\n",
              "      spin 1s steps(1) infinite;\n",
              "  }\n",
              "\n",
              "  @keyframes spin {\n",
              "    0% {\n",
              "      border-color: transparent;\n",
              "      border-bottom-color: var(--fill-color);\n",
              "      border-left-color: var(--fill-color);\n",
              "    }\n",
              "    20% {\n",
              "      border-color: transparent;\n",
              "      border-left-color: var(--fill-color);\n",
              "      border-top-color: var(--fill-color);\n",
              "    }\n",
              "    30% {\n",
              "      border-color: transparent;\n",
              "      border-left-color: var(--fill-color);\n",
              "      border-top-color: var(--fill-color);\n",
              "      border-right-color: var(--fill-color);\n",
              "    }\n",
              "    40% {\n",
              "      border-color: transparent;\n",
              "      border-right-color: var(--fill-color);\n",
              "      border-top-color: var(--fill-color);\n",
              "    }\n",
              "    60% {\n",
              "      border-color: transparent;\n",
              "      border-right-color: var(--fill-color);\n",
              "    }\n",
              "    80% {\n",
              "      border-color: transparent;\n",
              "      border-right-color: var(--fill-color);\n",
              "      border-bottom-color: var(--fill-color);\n",
              "    }\n",
              "    90% {\n",
              "      border-color: transparent;\n",
              "      border-bottom-color: var(--fill-color);\n",
              "    }\n",
              "  }\n",
              "</style>\n",
              "\n",
              "  <script>\n",
              "    async function quickchart(key) {\n",
              "      const quickchartButtonEl =\n",
              "        document.querySelector('#' + key + ' button');\n",
              "      quickchartButtonEl.disabled = true;  // To prevent multiple clicks.\n",
              "      quickchartButtonEl.classList.add('colab-df-spinner');\n",
              "      try {\n",
              "        const charts = await google.colab.kernel.invokeFunction(\n",
              "            'suggestCharts', [key], {});\n",
              "      } catch (error) {\n",
              "        console.error('Error during call to suggestCharts:', error);\n",
              "      }\n",
              "      quickchartButtonEl.classList.remove('colab-df-spinner');\n",
              "      quickchartButtonEl.classList.add('colab-df-quickchart-complete');\n",
              "    }\n",
              "    (() => {\n",
              "      let quickchartButtonEl =\n",
              "        document.querySelector('#df-6a53b376-8c99-4275-9fac-202a7457e01c button');\n",
              "      quickchartButtonEl.style.display =\n",
              "        google.colab.kernel.accessAllowed ? 'block' : 'none';\n",
              "    })();\n",
              "  </script>\n",
              "</div>\n",
              "\n",
              "    </div>\n",
              "  </div>\n"
            ],
            "application/vnd.google.colaboratory.intrinsic+json": {
              "type": "dataframe",
              "variable_name": "generalDataframe",
              "summary": "{\n  \"name\": \"generalDataframe\",\n  \"rows\": 5000,\n  \"fields\": [\n    {\n      \"column\": \"text\",\n      \"properties\": {\n        \"dtype\": \"string\",\n        \"num_unique_values\": 5000,\n        \"samples\": [\n          \"20163     ActivityLevel:VeryActive ActivityLevel:VeryActive ActivityLevel:VeryActive ActivityLevel:VeryActive ActivityLevel:VeryActive ActivityLevel:VeryActive ActivityLevel:VeryActive ActivityLevel:VeryActive ActivityLevel:VeryActive ActivityLevel:VeryActive ActivityLevel:VeryActive ActivityLevel:VeryActive ActivityLevel:VeryActive ActivityLevel:VeryActive ActivityLevel:VeryActive GoalID:6 GoalID:6 GoalID:6 GoalID:6 GoalID:6 GoalID:6 GoalID:6 GoalID:6 GoalID:6 GoalID:6 DietPreferenceID:1 DietPreferenceID:1 DietPreferenceID:1 DietPreferenceID:1 DietPreferenceID:1 DietPreferenceID:1 DietPreferenceID:1 DietPreferenceID:1 DietPreferenceID:1 DietPreferenceID:1 DietPreferenceID:1 DietPreferenceID:1 DietPreferenceID:1 DietPreferenceID:1 DietPreferenceID:1 RegionID:6 RegionID:6 RegionID:6 RegionID:6 RegionID:6 RegionID:6 RegionID:6 RegionID:6 RegionID:6 RegionID:6 RegionID:6 RegionID:6 RegionID:6 RegionID:6 RegionID:6 AllergenID:1 AllergenID:1 AllergenID:1 AllergenID:1 AllergenID:1 AllergenID:1 AllergenID:1 AllergenID:1 AllergenID:1 AllergenID:1 AllergenID:1 AllergenID:1 AllergenID:1 AllergenID:1 AllergenID:1 AllergenID:1 AllergenID:1 AllergenID:1 AllergenID:1 AllergenID:1 AllergenID:1 AllergenID:1 AllergenID:1 AllergenID:1 AllergenID:1 AllergenID:1 AllergenID:1 AllergenID:1 AllergenID:1 AllergenID:1\",\n          \"51255     ActivityLevel:Sedentary ActivityLevel:Sedentary ActivityLevel:Sedentary ActivityLevel:Sedentary ActivityLevel:Sedentary ActivityLevel:Sedentary ActivityLevel:Sedentary ActivityLevel:Sedentary ActivityLevel:Sedentary ActivityLevel:Sedentary ActivityLevel:Sedentary ActivityLevel:Sedentary ActivityLevel:Sedentary ActivityLevel:Sedentary ActivityLevel:Sedentary GoalID:6 GoalID:6 GoalID:6 GoalID:6 GoalID:6 GoalID:6 GoalID:6 GoalID:6 GoalID:6 GoalID:6 DietPreferenceID:4 DietPreferenceID:4 DietPreferenceID:4 DietPreferenceID:4 DietPreferenceID:4 DietPreferenceID:4 DietPreferenceID:4 DietPreferenceID:4 DietPreferenceID:4 DietPreferenceID:4 DietPreferenceID:4 DietPreferenceID:4 DietPreferenceID:4 DietPreferenceID:4 DietPreferenceID:4 RegionID:6 RegionID:6 RegionID:6 RegionID:6 RegionID:6 RegionID:6 RegionID:6 RegionID:6 RegionID:6 RegionID:6 RegionID:6 RegionID:6 RegionID:6 RegionID:6 RegionID:6 AllergenID:2 AllergenID:2 AllergenID:2 AllergenID:2 AllergenID:2 AllergenID:2 AllergenID:2 AllergenID:2 AllergenID:2 AllergenID:2 AllergenID:2 AllergenID:2 AllergenID:2 AllergenID:2 AllergenID:2 AllergenID:2 AllergenID:2 AllergenID:2 AllergenID:2 AllergenID:2 AllergenID:2 AllergenID:2 AllergenID:2 AllergenID:2 AllergenID:2 AllergenID:2 AllergenID:2 AllergenID:2 AllergenID:2 AllergenID:2\",\n          \"58000     ActivityLevel:ModeratelyActive ActivityLevel:ModeratelyActive ActivityLevel:ModeratelyActive ActivityLevel:ModeratelyActive ActivityLevel:ModeratelyActive ActivityLevel:ModeratelyActive ActivityLevel:ModeratelyActive ActivityLevel:ModeratelyActive ActivityLevel:ModeratelyActive ActivityLevel:ModeratelyActive ActivityLevel:ModeratelyActive ActivityLevel:ModeratelyActive ActivityLevel:ModeratelyActive ActivityLevel:ModeratelyActive ActivityLevel:ModeratelyActive GoalID:2 GoalID:2 GoalID:2 GoalID:2 GoalID:2 GoalID:2 GoalID:2 GoalID:2 GoalID:2 GoalID:2 DietPreferenceID:2 DietPreferenceID:2 DietPreferenceID:2 DietPreferenceID:2 DietPreferenceID:2 DietPreferenceID:2 DietPreferenceID:2 DietPreferenceID:2 DietPreferenceID:2 DietPreferenceID:2 DietPreferenceID:2 DietPreferenceID:2 DietPreferenceID:2 DietPreferenceID:2 DietPreferenceID:2 RegionID:1 RegionID:1 RegionID:1 RegionID:1 RegionID:1 RegionID:1 RegionID:1 RegionID:1 RegionID:1 RegionID:1 RegionID:1 RegionID:1 RegionID:1 RegionID:1 RegionID:1 AllergenID:5 AllergenID:5 AllergenID:5 AllergenID:5 AllergenID:5 AllergenID:5 AllergenID:5 AllergenID:5 AllergenID:5 AllergenID:5 AllergenID:5 AllergenID:5 AllergenID:5 AllergenID:5 AllergenID:5 AllergenID:5 AllergenID:5 AllergenID:5 AllergenID:5 AllergenID:5 AllergenID:5 AllergenID:5 AllergenID:5 AllergenID:5 AllergenID:5 AllergenID:5 AllergenID:5 AllergenID:5 AllergenID:5 AllergenID:5\"\n        ],\n        \"semantic_type\": \"\",\n        \"description\": \"\"\n      }\n    },\n    {\n      \"column\": \"label\",\n      \"properties\": {\n        \"dtype\": \"number\",\n        \"std\": 25905,\n        \"min\": 10124,\n        \"max\": 99977,\n        \"num_unique_values\": 5000,\n        \"samples\": [\n          20163,\n          51255,\n          58000\n        ],\n        \"semantic_type\": \"\",\n        \"description\": \"\"\n      }\n    }\n  ]\n}"
            }
          },
          "metadata": {},
          "execution_count": 7
        }
      ],
      "source": [
        "generalDataframe.head()"
      ]
    },
    {
      "cell_type": "code",
      "execution_count": null,
      "metadata": {
        "colab": {
          "base_uri": "https://localhost:8080/",
          "height": 206
        },
        "id": "0XZ-zc_izyMM",
        "outputId": "6208ad1d-928a-4ecf-d967-72cc290e3794"
      },
      "outputs": [
        {
          "output_type": "execute_result",
          "data": {
            "text/plain": [
              "                                                text  label\n",
              "0  label:64759 Gender:Male Age:63 Height:169 Weig...  64759\n",
              "1  label:22456 Gender:Other Age:35 Height:155 Wei...  22456\n",
              "2  label:63401 Gender:Other Age:19 Height:156 Wei...  63401\n",
              "3  label:72903 Gender:Male Age:24 Height:151 Weig...  72903\n",
              "4  label:76338 Gender:Female Age:33 Height:166 We...  76338"
            ],
            "text/html": [
              "\n",
              "  <div id=\"df-8de96f60-979a-4b5b-ba82-6370bb02007c\" class=\"colab-df-container\">\n",
              "    <div>\n",
              "<style scoped>\n",
              "    .dataframe tbody tr th:only-of-type {\n",
              "        vertical-align: middle;\n",
              "    }\n",
              "\n",
              "    .dataframe tbody tr th {\n",
              "        vertical-align: top;\n",
              "    }\n",
              "\n",
              "    .dataframe thead th {\n",
              "        text-align: right;\n",
              "    }\n",
              "</style>\n",
              "<table border=\"1\" class=\"dataframe\">\n",
              "  <thead>\n",
              "    <tr style=\"text-align: right;\">\n",
              "      <th></th>\n",
              "      <th>text</th>\n",
              "      <th>label</th>\n",
              "    </tr>\n",
              "  </thead>\n",
              "  <tbody>\n",
              "    <tr>\n",
              "      <th>0</th>\n",
              "      <td>label:64759 Gender:Male Age:63 Height:169 Weig...</td>\n",
              "      <td>64759</td>\n",
              "    </tr>\n",
              "    <tr>\n",
              "      <th>1</th>\n",
              "      <td>label:22456 Gender:Other Age:35 Height:155 Wei...</td>\n",
              "      <td>22456</td>\n",
              "    </tr>\n",
              "    <tr>\n",
              "      <th>2</th>\n",
              "      <td>label:63401 Gender:Other Age:19 Height:156 Wei...</td>\n",
              "      <td>63401</td>\n",
              "    </tr>\n",
              "    <tr>\n",
              "      <th>3</th>\n",
              "      <td>label:72903 Gender:Male Age:24 Height:151 Weig...</td>\n",
              "      <td>72903</td>\n",
              "    </tr>\n",
              "    <tr>\n",
              "      <th>4</th>\n",
              "      <td>label:76338 Gender:Female Age:33 Height:166 We...</td>\n",
              "      <td>76338</td>\n",
              "    </tr>\n",
              "  </tbody>\n",
              "</table>\n",
              "</div>\n",
              "    <div class=\"colab-df-buttons\">\n",
              "\n",
              "  <div class=\"colab-df-container\">\n",
              "    <button class=\"colab-df-convert\" onclick=\"convertToInteractive('df-8de96f60-979a-4b5b-ba82-6370bb02007c')\"\n",
              "            title=\"Convert this dataframe to an interactive table.\"\n",
              "            style=\"display:none;\">\n",
              "\n",
              "  <svg xmlns=\"http://www.w3.org/2000/svg\" height=\"24px\" viewBox=\"0 -960 960 960\">\n",
              "    <path d=\"M120-120v-720h720v720H120Zm60-500h600v-160H180v160Zm220 220h160v-160H400v160Zm0 220h160v-160H400v160ZM180-400h160v-160H180v160Zm440 0h160v-160H620v160ZM180-180h160v-160H180v160Zm440 0h160v-160H620v160Z\"/>\n",
              "  </svg>\n",
              "    </button>\n",
              "\n",
              "  <style>\n",
              "    .colab-df-container {\n",
              "      display:flex;\n",
              "      gap: 12px;\n",
              "    }\n",
              "\n",
              "    .colab-df-convert {\n",
              "      background-color: #E8F0FE;\n",
              "      border: none;\n",
              "      border-radius: 50%;\n",
              "      cursor: pointer;\n",
              "      display: none;\n",
              "      fill: #1967D2;\n",
              "      height: 32px;\n",
              "      padding: 0 0 0 0;\n",
              "      width: 32px;\n",
              "    }\n",
              "\n",
              "    .colab-df-convert:hover {\n",
              "      background-color: #E2EBFA;\n",
              "      box-shadow: 0px 1px 2px rgba(60, 64, 67, 0.3), 0px 1px 3px 1px rgba(60, 64, 67, 0.15);\n",
              "      fill: #174EA6;\n",
              "    }\n",
              "\n",
              "    .colab-df-buttons div {\n",
              "      margin-bottom: 4px;\n",
              "    }\n",
              "\n",
              "    [theme=dark] .colab-df-convert {\n",
              "      background-color: #3B4455;\n",
              "      fill: #D2E3FC;\n",
              "    }\n",
              "\n",
              "    [theme=dark] .colab-df-convert:hover {\n",
              "      background-color: #434B5C;\n",
              "      box-shadow: 0px 1px 3px 1px rgba(0, 0, 0, 0.15);\n",
              "      filter: drop-shadow(0px 1px 2px rgba(0, 0, 0, 0.3));\n",
              "      fill: #FFFFFF;\n",
              "    }\n",
              "  </style>\n",
              "\n",
              "    <script>\n",
              "      const buttonEl =\n",
              "        document.querySelector('#df-8de96f60-979a-4b5b-ba82-6370bb02007c button.colab-df-convert');\n",
              "      buttonEl.style.display =\n",
              "        google.colab.kernel.accessAllowed ? 'block' : 'none';\n",
              "\n",
              "      async function convertToInteractive(key) {\n",
              "        const element = document.querySelector('#df-8de96f60-979a-4b5b-ba82-6370bb02007c');\n",
              "        const dataTable =\n",
              "          await google.colab.kernel.invokeFunction('convertToInteractive',\n",
              "                                                    [key], {});\n",
              "        if (!dataTable) return;\n",
              "\n",
              "        const docLinkHtml = 'Like what you see? Visit the ' +\n",
              "          '<a target=\"_blank\" href=https://colab.research.google.com/notebooks/data_table.ipynb>data table notebook</a>'\n",
              "          + ' to learn more about interactive tables.';\n",
              "        element.innerHTML = '';\n",
              "        dataTable['output_type'] = 'display_data';\n",
              "        await google.colab.output.renderOutput(dataTable, element);\n",
              "        const docLink = document.createElement('div');\n",
              "        docLink.innerHTML = docLinkHtml;\n",
              "        element.appendChild(docLink);\n",
              "      }\n",
              "    </script>\n",
              "  </div>\n",
              "\n",
              "\n",
              "<div id=\"df-3a7c95da-6022-49ef-ac9c-444f6be80e9a\">\n",
              "  <button class=\"colab-df-quickchart\" onclick=\"quickchart('df-3a7c95da-6022-49ef-ac9c-444f6be80e9a')\"\n",
              "            title=\"Suggest charts\"\n",
              "            style=\"display:none;\">\n",
              "\n",
              "<svg xmlns=\"http://www.w3.org/2000/svg\" height=\"24px\"viewBox=\"0 0 24 24\"\n",
              "     width=\"24px\">\n",
              "    <g>\n",
              "        <path d=\"M19 3H5c-1.1 0-2 .9-2 2v14c0 1.1.9 2 2 2h14c1.1 0 2-.9 2-2V5c0-1.1-.9-2-2-2zM9 17H7v-7h2v7zm4 0h-2V7h2v10zm4 0h-2v-4h2v4z\"/>\n",
              "    </g>\n",
              "</svg>\n",
              "  </button>\n",
              "\n",
              "<style>\n",
              "  .colab-df-quickchart {\n",
              "      --bg-color: #E8F0FE;\n",
              "      --fill-color: #1967D2;\n",
              "      --hover-bg-color: #E2EBFA;\n",
              "      --hover-fill-color: #174EA6;\n",
              "      --disabled-fill-color: #AAA;\n",
              "      --disabled-bg-color: #DDD;\n",
              "  }\n",
              "\n",
              "  [theme=dark] .colab-df-quickchart {\n",
              "      --bg-color: #3B4455;\n",
              "      --fill-color: #D2E3FC;\n",
              "      --hover-bg-color: #434B5C;\n",
              "      --hover-fill-color: #FFFFFF;\n",
              "      --disabled-bg-color: #3B4455;\n",
              "      --disabled-fill-color: #666;\n",
              "  }\n",
              "\n",
              "  .colab-df-quickchart {\n",
              "    background-color: var(--bg-color);\n",
              "    border: none;\n",
              "    border-radius: 50%;\n",
              "    cursor: pointer;\n",
              "    display: none;\n",
              "    fill: var(--fill-color);\n",
              "    height: 32px;\n",
              "    padding: 0;\n",
              "    width: 32px;\n",
              "  }\n",
              "\n",
              "  .colab-df-quickchart:hover {\n",
              "    background-color: var(--hover-bg-color);\n",
              "    box-shadow: 0 1px 2px rgba(60, 64, 67, 0.3), 0 1px 3px 1px rgba(60, 64, 67, 0.15);\n",
              "    fill: var(--button-hover-fill-color);\n",
              "  }\n",
              "\n",
              "  .colab-df-quickchart-complete:disabled,\n",
              "  .colab-df-quickchart-complete:disabled:hover {\n",
              "    background-color: var(--disabled-bg-color);\n",
              "    fill: var(--disabled-fill-color);\n",
              "    box-shadow: none;\n",
              "  }\n",
              "\n",
              "  .colab-df-spinner {\n",
              "    border: 2px solid var(--fill-color);\n",
              "    border-color: transparent;\n",
              "    border-bottom-color: var(--fill-color);\n",
              "    animation:\n",
              "      spin 1s steps(1) infinite;\n",
              "  }\n",
              "\n",
              "  @keyframes spin {\n",
              "    0% {\n",
              "      border-color: transparent;\n",
              "      border-bottom-color: var(--fill-color);\n",
              "      border-left-color: var(--fill-color);\n",
              "    }\n",
              "    20% {\n",
              "      border-color: transparent;\n",
              "      border-left-color: var(--fill-color);\n",
              "      border-top-color: var(--fill-color);\n",
              "    }\n",
              "    30% {\n",
              "      border-color: transparent;\n",
              "      border-left-color: var(--fill-color);\n",
              "      border-top-color: var(--fill-color);\n",
              "      border-right-color: var(--fill-color);\n",
              "    }\n",
              "    40% {\n",
              "      border-color: transparent;\n",
              "      border-right-color: var(--fill-color);\n",
              "      border-top-color: var(--fill-color);\n",
              "    }\n",
              "    60% {\n",
              "      border-color: transparent;\n",
              "      border-right-color: var(--fill-color);\n",
              "    }\n",
              "    80% {\n",
              "      border-color: transparent;\n",
              "      border-right-color: var(--fill-color);\n",
              "      border-bottom-color: var(--fill-color);\n",
              "    }\n",
              "    90% {\n",
              "      border-color: transparent;\n",
              "      border-bottom-color: var(--fill-color);\n",
              "    }\n",
              "  }\n",
              "</style>\n",
              "\n",
              "  <script>\n",
              "    async function quickchart(key) {\n",
              "      const quickchartButtonEl =\n",
              "        document.querySelector('#' + key + ' button');\n",
              "      quickchartButtonEl.disabled = true;  // To prevent multiple clicks.\n",
              "      quickchartButtonEl.classList.add('colab-df-spinner');\n",
              "      try {\n",
              "        const charts = await google.colab.kernel.invokeFunction(\n",
              "            'suggestCharts', [key], {});\n",
              "      } catch (error) {\n",
              "        console.error('Error during call to suggestCharts:', error);\n",
              "      }\n",
              "      quickchartButtonEl.classList.remove('colab-df-spinner');\n",
              "      quickchartButtonEl.classList.add('colab-df-quickchart-complete');\n",
              "    }\n",
              "    (() => {\n",
              "      let quickchartButtonEl =\n",
              "        document.querySelector('#df-3a7c95da-6022-49ef-ac9c-444f6be80e9a button');\n",
              "      quickchartButtonEl.style.display =\n",
              "        google.colab.kernel.accessAllowed ? 'block' : 'none';\n",
              "    })();\n",
              "  </script>\n",
              "</div>\n",
              "\n",
              "    </div>\n",
              "  </div>\n"
            ],
            "application/vnd.google.colaboratory.intrinsic+json": {
              "type": "dataframe",
              "variable_name": "generalDataframe2",
              "summary": "{\n  \"name\": \"generalDataframe2\",\n  \"rows\": 5000,\n  \"fields\": [\n    {\n      \"column\": \"text\",\n      \"properties\": {\n        \"dtype\": \"string\",\n        \"num_unique_values\": 5000,\n        \"samples\": [\n          \"label:20163 Gender:Male Age:23 Height:182 Weight:59 ActivityLevel:VeryActive GoalID:6 DietPreferenceID:1 RegionID:6 AllergenID:1\",\n          \"label:51255 Gender:Female Age:59 Height:163 Weight:60 ActivityLevel:Sedentary GoalID:6 DietPreferenceID:4 RegionID:6 AllergenID:2\",\n          \"label:58000 Gender:Male Age:21 Height:173 Weight:60 ActivityLevel:ModeratelyActive GoalID:2 DietPreferenceID:2 RegionID:1 AllergenID:5\"\n        ],\n        \"semantic_type\": \"\",\n        \"description\": \"\"\n      }\n    },\n    {\n      \"column\": \"label\",\n      \"properties\": {\n        \"dtype\": \"number\",\n        \"std\": 25905,\n        \"min\": 10124,\n        \"max\": 99977,\n        \"num_unique_values\": 5000,\n        \"samples\": [\n          20163,\n          51255,\n          58000\n        ],\n        \"semantic_type\": \"\",\n        \"description\": \"\"\n      }\n    }\n  ]\n}"
            }
          },
          "metadata": {},
          "execution_count": 8
        }
      ],
      "source": [
        "generalDataframe2.head()"
      ]
    },
    {
      "cell_type": "markdown",
      "metadata": {
        "id": "FrDh62XczyMM"
      },
      "source": [
        "# Step 2: Training DistilBert Model"
      ]
    },
    {
      "cell_type": "markdown",
      "metadata": {
        "id": "27V1gWoczyMM"
      },
      "source": [
        "### Encoding Labels"
      ]
    },
    {
      "cell_type": "code",
      "execution_count": null,
      "metadata": {
        "id": "Kla8q6NwzyMM"
      },
      "outputs": [],
      "source": [
        "\n",
        "# Encode labels\n",
        "label_encoder = LabelEncoder()\n",
        "generalDataframe['label'] = label_encoder.fit_transform(generalDataframe['label'])"
      ]
    },
    {
      "cell_type": "markdown",
      "metadata": {
        "id": "5jNYKHOmzyMN"
      },
      "source": [
        "### Train Test Split of Data for Distilbert"
      ]
    },
    {
      "cell_type": "code",
      "execution_count": null,
      "metadata": {
        "id": "qk9J43g4zyMN"
      },
      "outputs": [],
      "source": [
        "# Split dataset\n",
        "train_df, val_df = train_test_split(generalDataframe, test_size=0.001, random_state=42)\n"
      ]
    },
    {
      "cell_type": "code",
      "execution_count": null,
      "metadata": {
        "id": "wErx3Z9ezyMN"
      },
      "outputs": [],
      "source": [
        "# Convert to Hugging Face Dataset\n",
        "train_dataset = Dataset.from_pandas(train_df)\n",
        "val_dataset = Dataset.from_pandas(val_df)\n"
      ]
    },
    {
      "cell_type": "markdown",
      "metadata": {
        "id": "b6aRYpGszyMN"
      },
      "source": [
        "### Importing tokenizer"
      ]
    },
    {
      "cell_type": "code",
      "execution_count": null,
      "metadata": {
        "id": "XNFEGC9QzyMN",
        "colab": {
          "base_uri": "https://localhost:8080/"
        },
        "outputId": "843d7c0e-79ef-4a1a-ed48-250c1d7129ce"
      },
      "outputs": [
        {
          "output_type": "stream",
          "name": "stderr",
          "text": [
            "/usr/local/lib/python3.10/dist-packages/huggingface_hub/utils/_token.py:89: UserWarning: \n",
            "The secret `HF_TOKEN` does not exist in your Colab secrets.\n",
            "To authenticate with the Hugging Face Hub, create a token in your settings tab (https://huggingface.co/settings/tokens), set it as secret in your Google Colab and restart your session.\n",
            "You will be able to reuse this secret in all of your notebooks.\n",
            "Please note that authentication is recommended but still optional to access public models or datasets.\n",
            "  warnings.warn(\n"
          ]
        }
      ],
      "source": [
        "\n",
        "# Tokenization\n",
        "tokenizer = AutoTokenizer.from_pretrained(\"distilbert-base-uncased\")\n"
      ]
    },
    {
      "cell_type": "markdown",
      "metadata": {
        "id": "OdApn5eAzyMN"
      },
      "source": [
        "### Preprocess function to map label encodings to text tokens"
      ]
    },
    {
      "cell_type": "code",
      "execution_count": null,
      "metadata": {
        "colab": {
          "base_uri": "https://localhost:8080/",
          "height": 81,
          "referenced_widgets": [
            "9cf066d42c304f518c78392c84c40cee",
            "6260382652404dd295a8e0512c8581a1",
            "5eff9216415b4addba1b1db0aec38779",
            "aa11600f08394e41b8928777730031ca",
            "3ff0e91544ec4896a7308843fc6917bd",
            "0fe376366eb44538a2eda149f4b881d3",
            "c7aec026bb6c4f09a8809f459d479531",
            "c81b01dda0c140d1a39b24765ece6f9b",
            "5a089aedbfa44291a62137aab9a913c0",
            "2de4ee59cea04026a5c9cf77ecb743ef",
            "cffdf18f4b7544d2b28e01b68719286e",
            "e9af6b55f44c4e65a4129a1b3c7896c3",
            "c8bd8df9ae7d4451a43da0f6b018a6c1",
            "8fb94f1e8d734107a973d7e46a496e70",
            "06e496a992be4bf4a2bf631490914c1e",
            "f8eb3d7c3787495cadc49283942aa4a7",
            "0055f61efe214df0812a0baafa4194e4",
            "c8fb4edfe04a475eb080ecedf84866e5",
            "059f27fbc4ed4f91bc5f3e976e1ca3a1",
            "46872230dae94de1815e7d0c2969fe90",
            "d76417de791c4140ab7a8e4d2993e732",
            "c87d2a46757c4eda81d116e756e32611"
          ]
        },
        "id": "zrCdw5bXzyMN",
        "outputId": "8aa8190c-87a2-4045-91c9-33e6abbcdfa8"
      },
      "outputs": [
        {
          "output_type": "display_data",
          "data": {
            "text/plain": [
              "Map:   0%|          | 0/4995 [00:00<?, ? examples/s]"
            ],
            "application/vnd.jupyter.widget-view+json": {
              "version_major": 2,
              "version_minor": 0,
              "model_id": "9cf066d42c304f518c78392c84c40cee"
            }
          },
          "metadata": {}
        },
        {
          "output_type": "display_data",
          "data": {
            "text/plain": [
              "Map:   0%|          | 0/5 [00:00<?, ? examples/s]"
            ],
            "application/vnd.jupyter.widget-view+json": {
              "version_major": 2,
              "version_minor": 0,
              "model_id": "e9af6b55f44c4e65a4129a1b3c7896c3"
            }
          },
          "metadata": {}
        }
      ],
      "source": [
        "\n",
        "def preprocess_function(examples):\n",
        "    return tokenizer(examples[\"text\"])\n",
        "\n",
        "tokenized_train_dataset = train_dataset.map(preprocess_function, batched=True)\n",
        "tokenized_val_dataset = val_dataset.map(preprocess_function, batched=True)\n"
      ]
    },
    {
      "cell_type": "markdown",
      "metadata": {
        "id": "AKH0P7m7zyMN"
      },
      "source": [
        "### Trainer Preparation"
      ]
    },
    {
      "cell_type": "code",
      "execution_count": null,
      "metadata": {
        "id": "ulxeIAv3zyMN"
      },
      "outputs": [],
      "source": [
        "numberOfClasses=max(train_df['label'])"
      ]
    },
    {
      "cell_type": "code",
      "execution_count": null,
      "metadata": {
        "id": "BjfudWvPzyMO"
      },
      "outputs": [],
      "source": [
        "myDataset=Dataset.from_pandas(train_df)"
      ]
    },
    {
      "cell_type": "code",
      "execution_count": null,
      "metadata": {
        "id": "PTFtov8jzyMO"
      },
      "outputs": [],
      "source": [
        "class ConfiguredMetric:\n",
        "    def __init__(self, metric, *metric_args, **metric_kwargs):\n",
        "        self.metric = metric\n",
        "        self.metric_args = metric_args\n",
        "        self.metric_kwargs = metric_kwargs\n",
        "\n",
        "    def add(self, *args, **kwargs):\n",
        "        return self.metric.add(*args, **kwargs)\n",
        "\n",
        "    def add_batch(self, *args, **kwargs):\n",
        "        return self.metric.add_batch(*args, **kwargs)\n",
        "\n",
        "    def compute(self, *args, **kwargs):\n",
        "        return self.metric.compute(*args, *self.metric_args, **kwargs, **self.metric_kwargs)\n",
        "\n",
        "    @property\n",
        "    def name(self):\n",
        "        return self.metric.name\n",
        "\n",
        "    def _feature_names(self):\n",
        "        return self.metric._feature_names()"
      ]
    },
    {
      "cell_type": "markdown",
      "metadata": {
        "id": "Es7fU7kNzyMO"
      },
      "source": [
        "### Loading DistilbertModel"
      ]
    },
    {
      "cell_type": "code",
      "execution_count": null,
      "metadata": {
        "colab": {
          "base_uri": "https://localhost:8080/"
        },
        "id": "2YWGQ4BBzyMO",
        "outputId": "2d44fca5-2ee9-484f-e016-542d1f6b7850"
      },
      "outputs": [
        {
          "output_type": "stream",
          "name": "stderr",
          "text": [
            "Some weights of DistilBertForSequenceClassification were not initialized from the model checkpoint at distilbert-base-uncased and are newly initialized: ['classifier.bias', 'classifier.weight', 'pre_classifier.bias', 'pre_classifier.weight']\n",
            "You should probably TRAIN this model on a down-stream task to be able to use it for predictions and inference.\n"
          ]
        }
      ],
      "source": [
        "modelBert= AutoModelForSequenceClassification.from_pretrained(\"distilbert-base-uncased\", num_labels=numberOfClasses+1)"
      ]
    },
    {
      "cell_type": "markdown",
      "metadata": {
        "id": "F_qJjFrqzyMO"
      },
      "source": [
        "### Padding for the dynamic range of text lengths"
      ]
    },
    {
      "cell_type": "code",
      "execution_count": null,
      "metadata": {
        "id": "0UIMSehAzyMO"
      },
      "outputs": [],
      "source": [
        "data_collator = DataCollatorWithPadding(tokenizer=tokenizer)"
      ]
    },
    {
      "cell_type": "code",
      "source": [
        "!pip install transformers[torch]\n",
        "!pip install accelerate -U"
      ],
      "metadata": {
        "colab": {
          "base_uri": "https://localhost:8080/"
        },
        "id": "H95TnUzL1pIt",
        "outputId": "91703904-ca93-4779-abb5-5329f5e7ec01"
      },
      "execution_count": null,
      "outputs": [
        {
          "output_type": "stream",
          "name": "stdout",
          "text": [
            "Requirement already satisfied: transformers[torch] in /usr/local/lib/python3.10/dist-packages (4.38.2)\n",
            "Requirement already satisfied: filelock in /usr/local/lib/python3.10/dist-packages (from transformers[torch]) (3.13.3)\n",
            "Requirement already satisfied: huggingface-hub<1.0,>=0.19.3 in /usr/local/lib/python3.10/dist-packages (from transformers[torch]) (0.22.1)\n",
            "Requirement already satisfied: numpy>=1.17 in /usr/local/lib/python3.10/dist-packages (from transformers[torch]) (1.26.4)\n",
            "Requirement already satisfied: packaging>=20.0 in /usr/local/lib/python3.10/dist-packages (from transformers[torch]) (24.0)\n",
            "Requirement already satisfied: pyyaml>=5.1 in /usr/local/lib/python3.10/dist-packages (from transformers[torch]) (6.0.1)\n",
            "Requirement already satisfied: regex!=2019.12.17 in /usr/local/lib/python3.10/dist-packages (from transformers[torch]) (2023.12.25)\n",
            "Requirement already satisfied: requests in /usr/local/lib/python3.10/dist-packages (from transformers[torch]) (2.31.0)\n",
            "Requirement already satisfied: tokenizers<0.19,>=0.14 in /usr/local/lib/python3.10/dist-packages (from transformers[torch]) (0.15.2)\n",
            "Requirement already satisfied: safetensors>=0.4.1 in /usr/local/lib/python3.10/dist-packages (from transformers[torch]) (0.4.2)\n",
            "Requirement already satisfied: tqdm>=4.27 in /usr/local/lib/python3.10/dist-packages (from transformers[torch]) (4.66.2)\n",
            "Requirement already satisfied: torch in /usr/local/lib/python3.10/dist-packages (from transformers[torch]) (2.2.2)\n",
            "Requirement already satisfied: accelerate>=0.21.0 in /usr/local/lib/python3.10/dist-packages (from transformers[torch]) (0.28.0)\n",
            "Requirement already satisfied: psutil in /usr/local/lib/python3.10/dist-packages (from accelerate>=0.21.0->transformers[torch]) (5.9.8)\n",
            "Requirement already satisfied: fsspec>=2023.5.0 in /usr/local/lib/python3.10/dist-packages (from huggingface-hub<1.0,>=0.19.3->transformers[torch]) (2024.3.1)\n",
            "Requirement already satisfied: typing-extensions>=3.7.4.3 in /usr/local/lib/python3.10/dist-packages (from huggingface-hub<1.0,>=0.19.3->transformers[torch]) (4.10.0)\n",
            "Requirement already satisfied: sympy in /usr/local/lib/python3.10/dist-packages (from torch->transformers[torch]) (1.12)\n",
            "Requirement already satisfied: networkx in /usr/local/lib/python3.10/dist-packages (from torch->transformers[torch]) (3.2.1)\n",
            "Requirement already satisfied: jinja2 in /usr/local/lib/python3.10/dist-packages (from torch->transformers[torch]) (3.1.3)\n",
            "Requirement already satisfied: nvidia-cuda-nvrtc-cu12==12.1.105 in /usr/local/lib/python3.10/dist-packages (from torch->transformers[torch]) (12.1.105)\n",
            "Requirement already satisfied: nvidia-cuda-runtime-cu12==12.1.105 in /usr/local/lib/python3.10/dist-packages (from torch->transformers[torch]) (12.1.105)\n",
            "Requirement already satisfied: nvidia-cuda-cupti-cu12==12.1.105 in /usr/local/lib/python3.10/dist-packages (from torch->transformers[torch]) (12.1.105)\n",
            "Requirement already satisfied: nvidia-cudnn-cu12==8.9.2.26 in /usr/local/lib/python3.10/dist-packages (from torch->transformers[torch]) (8.9.2.26)\n",
            "Requirement already satisfied: nvidia-cublas-cu12==12.1.3.1 in /usr/local/lib/python3.10/dist-packages (from torch->transformers[torch]) (12.1.3.1)\n",
            "Requirement already satisfied: nvidia-cufft-cu12==11.0.2.54 in /usr/local/lib/python3.10/dist-packages (from torch->transformers[torch]) (11.0.2.54)\n",
            "Requirement already satisfied: nvidia-curand-cu12==10.3.2.106 in /usr/local/lib/python3.10/dist-packages (from torch->transformers[torch]) (10.3.2.106)\n",
            "Requirement already satisfied: nvidia-cusolver-cu12==11.4.5.107 in /usr/local/lib/python3.10/dist-packages (from torch->transformers[torch]) (11.4.5.107)\n",
            "Requirement already satisfied: nvidia-cusparse-cu12==12.1.0.106 in /usr/local/lib/python3.10/dist-packages (from torch->transformers[torch]) (12.1.0.106)\n",
            "Requirement already satisfied: nvidia-nccl-cu12==2.19.3 in /usr/local/lib/python3.10/dist-packages (from torch->transformers[torch]) (2.19.3)\n",
            "Requirement already satisfied: nvidia-nvtx-cu12==12.1.105 in /usr/local/lib/python3.10/dist-packages (from torch->transformers[torch]) (12.1.105)\n",
            "Requirement already satisfied: triton==2.2.0 in /usr/local/lib/python3.10/dist-packages (from torch->transformers[torch]) (2.2.0)\n",
            "Requirement already satisfied: nvidia-nvjitlink-cu12 in /usr/local/lib/python3.10/dist-packages (from nvidia-cusolver-cu12==11.4.5.107->torch->transformers[torch]) (12.4.99)\n",
            "Requirement already satisfied: charset-normalizer<4,>=2 in /usr/local/lib/python3.10/dist-packages (from requests->transformers[torch]) (3.3.2)\n",
            "Requirement already satisfied: idna<4,>=2.5 in /usr/local/lib/python3.10/dist-packages (from requests->transformers[torch]) (3.6)\n",
            "Requirement already satisfied: urllib3<3,>=1.21.1 in /usr/local/lib/python3.10/dist-packages (from requests->transformers[torch]) (2.2.1)\n",
            "Requirement already satisfied: certifi>=2017.4.17 in /usr/local/lib/python3.10/dist-packages (from requests->transformers[torch]) (2024.2.2)\n",
            "Requirement already satisfied: MarkupSafe>=2.0 in /usr/local/lib/python3.10/dist-packages (from jinja2->torch->transformers[torch]) (2.1.5)\n",
            "Requirement already satisfied: mpmath>=0.19 in /usr/local/lib/python3.10/dist-packages (from sympy->torch->transformers[torch]) (1.3.0)\n",
            "Requirement already satisfied: accelerate in /usr/local/lib/python3.10/dist-packages (0.28.0)\n",
            "Requirement already satisfied: numpy>=1.17 in /usr/local/lib/python3.10/dist-packages (from accelerate) (1.26.4)\n",
            "Requirement already satisfied: packaging>=20.0 in /usr/local/lib/python3.10/dist-packages (from accelerate) (24.0)\n",
            "Requirement already satisfied: psutil in /usr/local/lib/python3.10/dist-packages (from accelerate) (5.9.8)\n",
            "Requirement already satisfied: pyyaml in /usr/local/lib/python3.10/dist-packages (from accelerate) (6.0.1)\n",
            "Requirement already satisfied: torch>=1.10.0 in /usr/local/lib/python3.10/dist-packages (from accelerate) (2.2.2)\n",
            "Requirement already satisfied: huggingface-hub in /usr/local/lib/python3.10/dist-packages (from accelerate) (0.22.1)\n",
            "Requirement already satisfied: safetensors>=0.3.1 in /usr/local/lib/python3.10/dist-packages (from accelerate) (0.4.2)\n",
            "Requirement already satisfied: filelock in /usr/local/lib/python3.10/dist-packages (from torch>=1.10.0->accelerate) (3.13.3)\n",
            "Requirement already satisfied: typing-extensions>=4.8.0 in /usr/local/lib/python3.10/dist-packages (from torch>=1.10.0->accelerate) (4.10.0)\n",
            "Requirement already satisfied: sympy in /usr/local/lib/python3.10/dist-packages (from torch>=1.10.0->accelerate) (1.12)\n",
            "Requirement already satisfied: networkx in /usr/local/lib/python3.10/dist-packages (from torch>=1.10.0->accelerate) (3.2.1)\n",
            "Requirement already satisfied: jinja2 in /usr/local/lib/python3.10/dist-packages (from torch>=1.10.0->accelerate) (3.1.3)\n",
            "Requirement already satisfied: fsspec in /usr/local/lib/python3.10/dist-packages (from torch>=1.10.0->accelerate) (2024.3.1)\n",
            "Requirement already satisfied: nvidia-cuda-nvrtc-cu12==12.1.105 in /usr/local/lib/python3.10/dist-packages (from torch>=1.10.0->accelerate) (12.1.105)\n",
            "Requirement already satisfied: nvidia-cuda-runtime-cu12==12.1.105 in /usr/local/lib/python3.10/dist-packages (from torch>=1.10.0->accelerate) (12.1.105)\n",
            "Requirement already satisfied: nvidia-cuda-cupti-cu12==12.1.105 in /usr/local/lib/python3.10/dist-packages (from torch>=1.10.0->accelerate) (12.1.105)\n",
            "Requirement already satisfied: nvidia-cudnn-cu12==8.9.2.26 in /usr/local/lib/python3.10/dist-packages (from torch>=1.10.0->accelerate) (8.9.2.26)\n",
            "Requirement already satisfied: nvidia-cublas-cu12==12.1.3.1 in /usr/local/lib/python3.10/dist-packages (from torch>=1.10.0->accelerate) (12.1.3.1)\n",
            "Requirement already satisfied: nvidia-cufft-cu12==11.0.2.54 in /usr/local/lib/python3.10/dist-packages (from torch>=1.10.0->accelerate) (11.0.2.54)\n",
            "Requirement already satisfied: nvidia-curand-cu12==10.3.2.106 in /usr/local/lib/python3.10/dist-packages (from torch>=1.10.0->accelerate) (10.3.2.106)\n",
            "Requirement already satisfied: nvidia-cusolver-cu12==11.4.5.107 in /usr/local/lib/python3.10/dist-packages (from torch>=1.10.0->accelerate) (11.4.5.107)\n",
            "Requirement already satisfied: nvidia-cusparse-cu12==12.1.0.106 in /usr/local/lib/python3.10/dist-packages (from torch>=1.10.0->accelerate) (12.1.0.106)\n",
            "Requirement already satisfied: nvidia-nccl-cu12==2.19.3 in /usr/local/lib/python3.10/dist-packages (from torch>=1.10.0->accelerate) (2.19.3)\n",
            "Requirement already satisfied: nvidia-nvtx-cu12==12.1.105 in /usr/local/lib/python3.10/dist-packages (from torch>=1.10.0->accelerate) (12.1.105)\n",
            "Requirement already satisfied: triton==2.2.0 in /usr/local/lib/python3.10/dist-packages (from torch>=1.10.0->accelerate) (2.2.0)\n",
            "Requirement already satisfied: nvidia-nvjitlink-cu12 in /usr/local/lib/python3.10/dist-packages (from nvidia-cusolver-cu12==11.4.5.107->torch>=1.10.0->accelerate) (12.4.99)\n",
            "Requirement already satisfied: requests in /usr/local/lib/python3.10/dist-packages (from huggingface-hub->accelerate) (2.31.0)\n",
            "Requirement already satisfied: tqdm>=4.42.1 in /usr/local/lib/python3.10/dist-packages (from huggingface-hub->accelerate) (4.66.2)\n",
            "Requirement already satisfied: MarkupSafe>=2.0 in /usr/local/lib/python3.10/dist-packages (from jinja2->torch>=1.10.0->accelerate) (2.1.5)\n",
            "Requirement already satisfied: charset-normalizer<4,>=2 in /usr/local/lib/python3.10/dist-packages (from requests->huggingface-hub->accelerate) (3.3.2)\n",
            "Requirement already satisfied: idna<4,>=2.5 in /usr/local/lib/python3.10/dist-packages (from requests->huggingface-hub->accelerate) (3.6)\n",
            "Requirement already satisfied: urllib3<3,>=1.21.1 in /usr/local/lib/python3.10/dist-packages (from requests->huggingface-hub->accelerate) (2.2.1)\n",
            "Requirement already satisfied: certifi>=2017.4.17 in /usr/local/lib/python3.10/dist-packages (from requests->huggingface-hub->accelerate) (2024.2.2)\n",
            "Requirement already satisfied: mpmath>=0.19 in /usr/local/lib/python3.10/dist-packages (from sympy->torch>=1.10.0->accelerate) (1.3.0)\n"
          ]
        }
      ]
    },
    {
      "cell_type": "code",
      "source": [
        "!pip install transformers[torch]\n",
        "!pip install accelerate -U"
      ],
      "metadata": {
        "colab": {
          "base_uri": "https://localhost:8080/"
        },
        "id": "JXr5iKVVBG4t",
        "outputId": "9f79d815-51ff-4cb6-c9ee-f2d18f1fd630"
      },
      "execution_count": null,
      "outputs": [
        {
          "output_type": "stream",
          "name": "stdout",
          "text": [
            "Requirement already satisfied: transformers[torch] in /usr/local/lib/python3.10/dist-packages (4.38.2)\n",
            "Requirement already satisfied: filelock in /usr/local/lib/python3.10/dist-packages (from transformers[torch]) (3.13.3)\n",
            "Requirement already satisfied: huggingface-hub<1.0,>=0.19.3 in /usr/local/lib/python3.10/dist-packages (from transformers[torch]) (0.22.1)\n",
            "Requirement already satisfied: numpy>=1.17 in /usr/local/lib/python3.10/dist-packages (from transformers[torch]) (1.26.4)\n",
            "Requirement already satisfied: packaging>=20.0 in /usr/local/lib/python3.10/dist-packages (from transformers[torch]) (24.0)\n",
            "Requirement already satisfied: pyyaml>=5.1 in /usr/local/lib/python3.10/dist-packages (from transformers[torch]) (6.0.1)\n",
            "Requirement already satisfied: regex!=2019.12.17 in /usr/local/lib/python3.10/dist-packages (from transformers[torch]) (2023.12.25)\n",
            "Requirement already satisfied: requests in /usr/local/lib/python3.10/dist-packages (from transformers[torch]) (2.31.0)\n",
            "Requirement already satisfied: tokenizers<0.19,>=0.14 in /usr/local/lib/python3.10/dist-packages (from transformers[torch]) (0.15.2)\n",
            "Requirement already satisfied: safetensors>=0.4.1 in /usr/local/lib/python3.10/dist-packages (from transformers[torch]) (0.4.2)\n",
            "Requirement already satisfied: tqdm>=4.27 in /usr/local/lib/python3.10/dist-packages (from transformers[torch]) (4.66.2)\n",
            "Requirement already satisfied: torch in /usr/local/lib/python3.10/dist-packages (from transformers[torch]) (2.2.2)\n",
            "Requirement already satisfied: accelerate>=0.21.0 in /usr/local/lib/python3.10/dist-packages (from transformers[torch]) (0.28.0)\n",
            "Requirement already satisfied: psutil in /usr/local/lib/python3.10/dist-packages (from accelerate>=0.21.0->transformers[torch]) (5.9.8)\n",
            "Requirement already satisfied: fsspec>=2023.5.0 in /usr/local/lib/python3.10/dist-packages (from huggingface-hub<1.0,>=0.19.3->transformers[torch]) (2024.3.1)\n",
            "Requirement already satisfied: typing-extensions>=3.7.4.3 in /usr/local/lib/python3.10/dist-packages (from huggingface-hub<1.0,>=0.19.3->transformers[torch]) (4.10.0)\n",
            "Requirement already satisfied: sympy in /usr/local/lib/python3.10/dist-packages (from torch->transformers[torch]) (1.12)\n",
            "Requirement already satisfied: networkx in /usr/local/lib/python3.10/dist-packages (from torch->transformers[torch]) (3.2.1)\n",
            "Requirement already satisfied: jinja2 in /usr/local/lib/python3.10/dist-packages (from torch->transformers[torch]) (3.1.3)\n",
            "Requirement already satisfied: nvidia-cuda-nvrtc-cu12==12.1.105 in /usr/local/lib/python3.10/dist-packages (from torch->transformers[torch]) (12.1.105)\n",
            "Requirement already satisfied: nvidia-cuda-runtime-cu12==12.1.105 in /usr/local/lib/python3.10/dist-packages (from torch->transformers[torch]) (12.1.105)\n",
            "Requirement already satisfied: nvidia-cuda-cupti-cu12==12.1.105 in /usr/local/lib/python3.10/dist-packages (from torch->transformers[torch]) (12.1.105)\n",
            "Requirement already satisfied: nvidia-cudnn-cu12==8.9.2.26 in /usr/local/lib/python3.10/dist-packages (from torch->transformers[torch]) (8.9.2.26)\n",
            "Requirement already satisfied: nvidia-cublas-cu12==12.1.3.1 in /usr/local/lib/python3.10/dist-packages (from torch->transformers[torch]) (12.1.3.1)\n",
            "Requirement already satisfied: nvidia-cufft-cu12==11.0.2.54 in /usr/local/lib/python3.10/dist-packages (from torch->transformers[torch]) (11.0.2.54)\n",
            "Requirement already satisfied: nvidia-curand-cu12==10.3.2.106 in /usr/local/lib/python3.10/dist-packages (from torch->transformers[torch]) (10.3.2.106)\n",
            "Requirement already satisfied: nvidia-cusolver-cu12==11.4.5.107 in /usr/local/lib/python3.10/dist-packages (from torch->transformers[torch]) (11.4.5.107)\n",
            "Requirement already satisfied: nvidia-cusparse-cu12==12.1.0.106 in /usr/local/lib/python3.10/dist-packages (from torch->transformers[torch]) (12.1.0.106)\n",
            "Requirement already satisfied: nvidia-nccl-cu12==2.19.3 in /usr/local/lib/python3.10/dist-packages (from torch->transformers[torch]) (2.19.3)\n",
            "Requirement already satisfied: nvidia-nvtx-cu12==12.1.105 in /usr/local/lib/python3.10/dist-packages (from torch->transformers[torch]) (12.1.105)\n",
            "Requirement already satisfied: triton==2.2.0 in /usr/local/lib/python3.10/dist-packages (from torch->transformers[torch]) (2.2.0)\n",
            "Requirement already satisfied: nvidia-nvjitlink-cu12 in /usr/local/lib/python3.10/dist-packages (from nvidia-cusolver-cu12==11.4.5.107->torch->transformers[torch]) (12.4.99)\n",
            "Requirement already satisfied: charset-normalizer<4,>=2 in /usr/local/lib/python3.10/dist-packages (from requests->transformers[torch]) (3.3.2)\n",
            "Requirement already satisfied: idna<4,>=2.5 in /usr/local/lib/python3.10/dist-packages (from requests->transformers[torch]) (3.6)\n",
            "Requirement already satisfied: urllib3<3,>=1.21.1 in /usr/local/lib/python3.10/dist-packages (from requests->transformers[torch]) (2.2.1)\n",
            "Requirement already satisfied: certifi>=2017.4.17 in /usr/local/lib/python3.10/dist-packages (from requests->transformers[torch]) (2024.2.2)\n",
            "Requirement already satisfied: MarkupSafe>=2.0 in /usr/local/lib/python3.10/dist-packages (from jinja2->torch->transformers[torch]) (2.1.5)\n",
            "Requirement already satisfied: mpmath>=0.19 in /usr/local/lib/python3.10/dist-packages (from sympy->torch->transformers[torch]) (1.3.0)\n",
            "Requirement already satisfied: accelerate in /usr/local/lib/python3.10/dist-packages (0.28.0)\n",
            "Requirement already satisfied: numpy>=1.17 in /usr/local/lib/python3.10/dist-packages (from accelerate) (1.26.4)\n",
            "Requirement already satisfied: packaging>=20.0 in /usr/local/lib/python3.10/dist-packages (from accelerate) (24.0)\n",
            "Requirement already satisfied: psutil in /usr/local/lib/python3.10/dist-packages (from accelerate) (5.9.8)\n",
            "Requirement already satisfied: pyyaml in /usr/local/lib/python3.10/dist-packages (from accelerate) (6.0.1)\n",
            "Requirement already satisfied: torch>=1.10.0 in /usr/local/lib/python3.10/dist-packages (from accelerate) (2.2.2)\n",
            "Requirement already satisfied: huggingface-hub in /usr/local/lib/python3.10/dist-packages (from accelerate) (0.22.1)\n",
            "Requirement already satisfied: safetensors>=0.3.1 in /usr/local/lib/python3.10/dist-packages (from accelerate) (0.4.2)\n",
            "Requirement already satisfied: filelock in /usr/local/lib/python3.10/dist-packages (from torch>=1.10.0->accelerate) (3.13.3)\n",
            "Requirement already satisfied: typing-extensions>=4.8.0 in /usr/local/lib/python3.10/dist-packages (from torch>=1.10.0->accelerate) (4.10.0)\n",
            "Requirement already satisfied: sympy in /usr/local/lib/python3.10/dist-packages (from torch>=1.10.0->accelerate) (1.12)\n",
            "Requirement already satisfied: networkx in /usr/local/lib/python3.10/dist-packages (from torch>=1.10.0->accelerate) (3.2.1)\n",
            "Requirement already satisfied: jinja2 in /usr/local/lib/python3.10/dist-packages (from torch>=1.10.0->accelerate) (3.1.3)\n",
            "Requirement already satisfied: fsspec in /usr/local/lib/python3.10/dist-packages (from torch>=1.10.0->accelerate) (2024.3.1)\n",
            "Requirement already satisfied: nvidia-cuda-nvrtc-cu12==12.1.105 in /usr/local/lib/python3.10/dist-packages (from torch>=1.10.0->accelerate) (12.1.105)\n",
            "Requirement already satisfied: nvidia-cuda-runtime-cu12==12.1.105 in /usr/local/lib/python3.10/dist-packages (from torch>=1.10.0->accelerate) (12.1.105)\n",
            "Requirement already satisfied: nvidia-cuda-cupti-cu12==12.1.105 in /usr/local/lib/python3.10/dist-packages (from torch>=1.10.0->accelerate) (12.1.105)\n",
            "Requirement already satisfied: nvidia-cudnn-cu12==8.9.2.26 in /usr/local/lib/python3.10/dist-packages (from torch>=1.10.0->accelerate) (8.9.2.26)\n",
            "Requirement already satisfied: nvidia-cublas-cu12==12.1.3.1 in /usr/local/lib/python3.10/dist-packages (from torch>=1.10.0->accelerate) (12.1.3.1)\n",
            "Requirement already satisfied: nvidia-cufft-cu12==11.0.2.54 in /usr/local/lib/python3.10/dist-packages (from torch>=1.10.0->accelerate) (11.0.2.54)\n",
            "Requirement already satisfied: nvidia-curand-cu12==10.3.2.106 in /usr/local/lib/python3.10/dist-packages (from torch>=1.10.0->accelerate) (10.3.2.106)\n",
            "Requirement already satisfied: nvidia-cusolver-cu12==11.4.5.107 in /usr/local/lib/python3.10/dist-packages (from torch>=1.10.0->accelerate) (11.4.5.107)\n",
            "Requirement already satisfied: nvidia-cusparse-cu12==12.1.0.106 in /usr/local/lib/python3.10/dist-packages (from torch>=1.10.0->accelerate) (12.1.0.106)\n",
            "Requirement already satisfied: nvidia-nccl-cu12==2.19.3 in /usr/local/lib/python3.10/dist-packages (from torch>=1.10.0->accelerate) (2.19.3)\n",
            "Requirement already satisfied: nvidia-nvtx-cu12==12.1.105 in /usr/local/lib/python3.10/dist-packages (from torch>=1.10.0->accelerate) (12.1.105)\n",
            "Requirement already satisfied: triton==2.2.0 in /usr/local/lib/python3.10/dist-packages (from torch>=1.10.0->accelerate) (2.2.0)\n",
            "Requirement already satisfied: nvidia-nvjitlink-cu12 in /usr/local/lib/python3.10/dist-packages (from nvidia-cusolver-cu12==11.4.5.107->torch>=1.10.0->accelerate) (12.4.99)\n",
            "Requirement already satisfied: requests in /usr/local/lib/python3.10/dist-packages (from huggingface-hub->accelerate) (2.31.0)\n",
            "Requirement already satisfied: tqdm>=4.42.1 in /usr/local/lib/python3.10/dist-packages (from huggingface-hub->accelerate) (4.66.2)\n",
            "Requirement already satisfied: MarkupSafe>=2.0 in /usr/local/lib/python3.10/dist-packages (from jinja2->torch>=1.10.0->accelerate) (2.1.5)\n",
            "Requirement already satisfied: charset-normalizer<4,>=2 in /usr/local/lib/python3.10/dist-packages (from requests->huggingface-hub->accelerate) (3.3.2)\n",
            "Requirement already satisfied: idna<4,>=2.5 in /usr/local/lib/python3.10/dist-packages (from requests->huggingface-hub->accelerate) (3.6)\n",
            "Requirement already satisfied: urllib3<3,>=1.21.1 in /usr/local/lib/python3.10/dist-packages (from requests->huggingface-hub->accelerate) (2.2.1)\n",
            "Requirement already satisfied: certifi>=2017.4.17 in /usr/local/lib/python3.10/dist-packages (from requests->huggingface-hub->accelerate) (2024.2.2)\n",
            "Requirement already satisfied: mpmath>=0.19 in /usr/local/lib/python3.10/dist-packages (from sympy->torch>=1.10.0->accelerate) (1.3.0)\n"
          ]
        }
      ]
    },
    {
      "cell_type": "markdown",
      "metadata": {
        "id": "Z79umrMIzyMO"
      },
      "source": [
        "### Trainer"
      ]
    },
    {
      "cell_type": "code",
      "execution_count": null,
      "metadata": {
        "colab": {
          "base_uri": "https://localhost:8080/",
          "height": 213
        },
        "id": "G4nFVxswzyMO",
        "outputId": "c652f073-779a-4a60-949b-5ace7a71ba89"
      },
      "outputs": [
        {
          "output_type": "stream",
          "name": "stderr",
          "text": [
            "/usr/local/lib/python3.10/dist-packages/accelerate/accelerator.py:432: FutureWarning: Passing the following arguments to `Accelerator` is deprecated and will be removed in version 1.0 of Accelerate: dict_keys(['dispatch_batches', 'split_batches', 'even_batches', 'use_seedable_sampler']). Please pass an `accelerate.DataLoaderConfiguration` instead: \n",
            "dataloader_config = DataLoaderConfiguration(dispatch_batches=None, split_batches=False, even_batches=True, use_seedable_sampler=True)\n",
            "  warnings.warn(\n"
          ]
        },
        {
          "output_type": "display_data",
          "data": {
            "text/plain": [
              "<IPython.core.display.HTML object>"
            ],
            "text/html": [
              "\n",
              "    <div>\n",
              "      \n",
              "      <progress value='939' max='939' style='width:300px; height:20px; vertical-align: middle;'></progress>\n",
              "      [939/939 11:13, Epoch 3/3]\n",
              "    </div>\n",
              "    <table border=\"1\" class=\"dataframe\">\n",
              "  <thead>\n",
              " <tr style=\"text-align: left;\">\n",
              "      <th>Step</th>\n",
              "      <th>Training Loss</th>\n",
              "    </tr>\n",
              "  </thead>\n",
              "  <tbody>\n",
              "    <tr>\n",
              "      <td>500</td>\n",
              "      <td>8.528200</td>\n",
              "    </tr>\n",
              "  </tbody>\n",
              "</table><p>"
            ]
          },
          "metadata": {}
        },
        {
          "output_type": "execute_result",
          "data": {
            "text/plain": [
              "TrainOutput(global_step=939, training_loss=8.52417642189164, metrics={'train_runtime': 675.6572, 'train_samples_per_second': 22.178, 'train_steps_per_second': 1.39, 'total_flos': 2027328280648080.0, 'train_loss': 8.52417642189164, 'epoch': 3.0})"
            ]
          },
          "metadata": {},
          "execution_count": 21
        }
      ],
      "source": [
        "\n",
        "training_args = TrainingArguments(\n",
        "    output_dir=\"./results\",\n",
        "    learning_rate=2e-5,\n",
        "    per_device_train_batch_size=16,\n",
        "    per_device_eval_batch_size=16,\n",
        "    num_train_epochs=3,\n",
        "    weight_decay=0.01,\n",
        ")\n",
        "\n",
        "trainer = Trainer(\n",
        "    model=modelBert,\n",
        "    args=training_args,\n",
        "    train_dataset=tokenized_train_dataset,\n",
        "    eval_dataset=tokenized_val_dataset,\n",
        "    tokenizer=tokenizer,\n",
        "    data_collator=data_collator,\n",
        ")\n",
        "\n",
        "# Training\n",
        "trainer.train()\n"
      ]
    },
    {
      "cell_type": "markdown",
      "metadata": {
        "id": "Cl7BYasMzyMO"
      },
      "source": [
        "### Evaluation of Distilbert Model"
      ]
    },
    {
      "cell_type": "code",
      "execution_count": null,
      "metadata": {
        "id": "a9yWi31ezyMO",
        "colab": {
          "base_uri": "https://localhost:8080/",
          "height": 54
        },
        "outputId": "a98a21c3-ec26-4aee-80d1-7383c5ac7008"
      },
      "outputs": [
        {
          "output_type": "display_data",
          "data": {
            "text/plain": [
              "<IPython.core.display.HTML object>"
            ],
            "text/html": [
              "\n",
              "    <div>\n",
              "      \n",
              "      <progress value='1' max='1' style='width:300px; height:20px; vertical-align: middle;'></progress>\n",
              "      [1/1 : < :]\n",
              "    </div>\n",
              "    "
            ]
          },
          "metadata": {}
        },
        {
          "output_type": "stream",
          "name": "stdout",
          "text": [
            "{'eval_loss': 8.553973197937012, 'eval_runtime': 0.0736, 'eval_samples_per_second': 67.954, 'eval_steps_per_second': 13.591, 'epoch': 3.0}\n"
          ]
        }
      ],
      "source": [
        "\n",
        "# Evaluation\n",
        "eval_results = trainer.evaluate(tokenized_val_dataset)\n",
        "print(eval_results)\n"
      ]
    },
    {
      "cell_type": "markdown",
      "metadata": {
        "id": "IeRwbTLLzyMP"
      },
      "source": [
        "# Step 3: Machine Learning Models"
      ]
    },
    {
      "cell_type": "markdown",
      "metadata": {
        "id": "IbEhqP5CzyMP"
      },
      "source": [
        "### Train Test Split for Machine Learning Models\n"
      ]
    },
    {
      "cell_type": "code",
      "execution_count": null,
      "metadata": {
        "id": "SmpgsrD-zyMP"
      },
      "outputs": [],
      "source": [
        "X_train, X_test, y_train, y_test = train_test_split(generalDataframe['text'], generalDataframe['label'], random_state=123)\n"
      ]
    },
    {
      "cell_type": "markdown",
      "metadata": {
        "id": "7tYsU60yzyMP"
      },
      "source": [
        "### TF-IDF Vectorizing"
      ]
    },
    {
      "cell_type": "code",
      "execution_count": null,
      "metadata": {
        "id": "rxQAYdRkzyMP"
      },
      "outputs": [],
      "source": [
        "vectorizer = TfidfVectorizer(stop_words='english', strip_accents='unicode', lowercase=True)\n",
        "X_train_transformed = vectorizer.fit_transform(X_train)\n",
        "X_test_transformed = vectorizer.transform(X_test)\n"
      ]
    },
    {
      "cell_type": "markdown",
      "metadata": {
        "id": "D5P20UAIzyMQ"
      },
      "source": [
        "### Model Training and Predictions"
      ]
    },
    {
      "cell_type": "code",
      "execution_count": null,
      "metadata": {
        "id": "Ciehq-bzzyMQ"
      },
      "outputs": [],
      "source": [
        "svm_model_linear = SVC(kernel = 'linear', C = 1).fit(X_train_transformed, X_train)\n",
        "svm_predictions = svm_model_linear.predict(X_test_transformed)"
      ]
    },
    {
      "cell_type": "code",
      "execution_count": null,
      "metadata": {
        "id": "5g9R23yizyMQ"
      },
      "outputs": [],
      "source": [
        "modelNb=MultinomialNB()\n",
        "modelNb.fit(X_train_transformed,X_train)\n",
        "predictions=modelNb.predict(X_test_transformed)"
      ]
    },
    {
      "cell_type": "code",
      "execution_count": null,
      "metadata": {
        "id": "flqCF7AXzyMQ"
      },
      "outputs": [],
      "source": [
        "knn = KNeighborsClassifier(n_neighbors = 12).fit(X_train_transformed, X_train)\n",
        "knn_predictions = knn.predict(X_test_transformed)"
      ]
    },
    {
      "cell_type": "markdown",
      "metadata": {
        "id": "HNCV17GGzyMQ"
      },
      "source": [
        "# Step 4: Testing"
      ]
    },
    {
      "cell_type": "code",
      "execution_count": null,
      "metadata": {
        "id": "FMSMX5KTzyMQ"
      },
      "outputs": [],
      "source": [
        "text_to_predict = \"\"\"\n",
        "Gender: Male Age: 94 Height: 170 Weight: 78 ActivityLevel: ModeratelyActive GoalID: 9 DietPreferenceID: 2 RegionID: 10 AllergenID: 10\"\"\""
      ]
    },
    {
      "cell_type": "markdown",
      "metadata": {
        "id": "3ri0IgDFzyMQ"
      },
      "source": [
        "### Predicting Functions\n"
      ]
    },
    {
      "cell_type": "code",
      "execution_count": null,
      "metadata": {
        "id": "ncxRadD2zyMQ"
      },
      "outputs": [],
      "source": [
        "import torch\n",
        "def predict_labelDistilbert(text):\n",
        "    inputs = tokenizer(text, return_tensors=\"pt\", truncation=True, max_length=512, padding=True)\n",
        "    inputs = {k: v.to(modelBert.device) for k, v in inputs.items()}\n",
        "    with torch.no_grad():\n",
        "        logits = modelBert(**inputs).logits\n",
        "    probabilities = torch.nn.functional.softmax(logits, dim=-1)\n",
        "    predicted_label = torch.argmax(probabilities, dim=-1).item()\n",
        "    return label_encoder.inverse_transform([predicted_label])[0]\n",
        "\n",
        "def predict_label_id_multinomial_nb(text):\n",
        "    text_transformed = vectorizer.transform([text])\n",
        "    return modelNb.predict(text_transformed)[0]\n",
        "\n",
        "def predict_label_id_svm(text):\n",
        "    text_transformed = vectorizer.transform([text])\n",
        "    return svm_model_linear.predict(text_transformed)[0]\n",
        "\n",
        "def predict_label_id_knn(text):\n",
        "    text_transformed = vectorizer.transform([text])\n",
        "    return knn.predict(text_transformed)[0]\n"
      ]
    },
    {
      "cell_type": "markdown",
      "metadata": {
        "id": "5MM_1twMzyMQ"
      },
      "source": [
        "### Predictions"
      ]
    },
    {
      "cell_type": "code",
      "execution_count": null,
      "metadata": {
        "id": "uVFekeeYzyMQ"
      },
      "outputs": [],
      "source": [
        "predicted_labelDISTILBERT=\"\"\n",
        "predicted_labelDISTILBERT = predict_labelDistilbert(text_to_predict)"
      ]
    },
    {
      "cell_type": "code",
      "execution_count": null,
      "metadata": {
        "id": "rTPBysnQzyMQ",
        "colab": {
          "base_uri": "https://localhost:8080/"
        },
        "outputId": "f095bc33-df07-473f-9597-d4a131c43f85"
      },
      "outputs": [
        {
          "output_type": "stream",
          "name": "stdout",
          "text": [
            "Multinomial Naive Bayes predicted label ID: 26424     ActivityLevel:ModeratelyActive ActivityLevel:ModeratelyActive ActivityLevel:ModeratelyActive ActivityLevel:ModeratelyActive ActivityLevel:ModeratelyActive ActivityLevel:ModeratelyActive ActivityLevel:ModeratelyActive ActivityLevel:ModeratelyActive ActivityLevel:ModeratelyActive ActivityLevel:ModeratelyActive ActivityLevel:ModeratelyActive ActivityLevel:ModeratelyActive ActivityLevel:ModeratelyActive ActivityLevel:ModeratelyActive ActivityLevel:ModeratelyActive GoalID:10 GoalID:10 GoalID:10 GoalID:10 GoalID:10 GoalID:10 GoalID:10 GoalID:10 GoalID:10 GoalID:10 DietPreferenceID:4 DietPreferenceID:4 DietPreferenceID:4 DietPreferenceID:4 DietPreferenceID:4 DietPreferenceID:4 DietPreferenceID:4 DietPreferenceID:4 DietPreferenceID:4 DietPreferenceID:4 DietPreferenceID:4 DietPreferenceID:4 DietPreferenceID:4 DietPreferenceID:4 DietPreferenceID:4 RegionID:10 RegionID:10 RegionID:10 RegionID:10 RegionID:10 RegionID:10 RegionID:10 RegionID:10 RegionID:10 RegionID:10 RegionID:10 RegionID:10 RegionID:10 RegionID:10 RegionID:10 AllergenID:4 AllergenID:4 AllergenID:4 AllergenID:4 AllergenID:4 AllergenID:4 AllergenID:4 AllergenID:4 AllergenID:4 AllergenID:4 AllergenID:4 AllergenID:4 AllergenID:4 AllergenID:4 AllergenID:4 AllergenID:4 AllergenID:4 AllergenID:4 AllergenID:4 AllergenID:4 AllergenID:4 AllergenID:4 AllergenID:4 AllergenID:4 AllergenID:4 AllergenID:4 AllergenID:4 AllergenID:4 AllergenID:4 AllergenID:4\n"
          ]
        }
      ],
      "source": [
        "predicted_labelMNB=\"\"\n",
        "predicted_labelMNB= predict_label_id_multinomial_nb(text_to_predict)\n",
        "print(f\"Multinomial Naive Bayes predicted label ID: {predicted_labelMNB}\")\n"
      ]
    },
    {
      "cell_type": "code",
      "execution_count": null,
      "metadata": {
        "id": "yL7buiGAzyMQ",
        "colab": {
          "base_uri": "https://localhost:8080/"
        },
        "outputId": "13ad940d-6025-41d9-c4c4-090575284549"
      },
      "outputs": [
        {
          "output_type": "stream",
          "name": "stdout",
          "text": [
            "SVM predicted label ID: 74721     ActivityLevel:ModeratelyActive ActivityLevel:ModeratelyActive ActivityLevel:ModeratelyActive ActivityLevel:ModeratelyActive ActivityLevel:ModeratelyActive ActivityLevel:ModeratelyActive ActivityLevel:ModeratelyActive ActivityLevel:ModeratelyActive ActivityLevel:ModeratelyActive ActivityLevel:ModeratelyActive ActivityLevel:ModeratelyActive ActivityLevel:ModeratelyActive ActivityLevel:ModeratelyActive ActivityLevel:ModeratelyActive ActivityLevel:ModeratelyActive GoalID:10 GoalID:10 GoalID:10 GoalID:10 GoalID:10 GoalID:10 GoalID:10 GoalID:10 GoalID:10 GoalID:10 DietPreferenceID:5 DietPreferenceID:5 DietPreferenceID:5 DietPreferenceID:5 DietPreferenceID:5 DietPreferenceID:5 DietPreferenceID:5 DietPreferenceID:5 DietPreferenceID:5 DietPreferenceID:5 DietPreferenceID:5 DietPreferenceID:5 DietPreferenceID:5 DietPreferenceID:5 DietPreferenceID:5 RegionID:5 RegionID:5 RegionID:5 RegionID:5 RegionID:5 RegionID:5 RegionID:5 RegionID:5 RegionID:5 RegionID:5 RegionID:5 RegionID:5 RegionID:5 RegionID:5 RegionID:5 AllergenID:10 AllergenID:10 AllergenID:10 AllergenID:10 AllergenID:10 AllergenID:10 AllergenID:10 AllergenID:10 AllergenID:10 AllergenID:10 AllergenID:10 AllergenID:10 AllergenID:10 AllergenID:10 AllergenID:10 AllergenID:10 AllergenID:10 AllergenID:10 AllergenID:10 AllergenID:10 AllergenID:10 AllergenID:10 AllergenID:10 AllergenID:10 AllergenID:10 AllergenID:10 AllergenID:10 AllergenID:10 AllergenID:10 AllergenID:10\n"
          ]
        }
      ],
      "source": [
        "\n",
        "predicted_labelSVM=\"\"\n",
        "predicted_labelSVM = predict_label_id_svm(text_to_predict)\n",
        "print(f\"SVM predicted label ID: {predicted_labelSVM}\")\n"
      ]
    },
    {
      "cell_type": "code",
      "execution_count": null,
      "metadata": {
        "id": "q5CCCPldzyMR",
        "colab": {
          "base_uri": "https://localhost:8080/"
        },
        "outputId": "e113dac5-bfb3-4c05-81da-036499c54489"
      },
      "outputs": [
        {
          "output_type": "stream",
          "name": "stdout",
          "text": [
            "KNN predicted label ID: 10624     ActivityLevel:ModeratelyActive ActivityLevel:ModeratelyActive ActivityLevel:ModeratelyActive ActivityLevel:ModeratelyActive ActivityLevel:ModeratelyActive ActivityLevel:ModeratelyActive ActivityLevel:ModeratelyActive ActivityLevel:ModeratelyActive ActivityLevel:ModeratelyActive ActivityLevel:ModeratelyActive ActivityLevel:ModeratelyActive ActivityLevel:ModeratelyActive ActivityLevel:ModeratelyActive ActivityLevel:ModeratelyActive ActivityLevel:ModeratelyActive GoalID:10 GoalID:10 GoalID:10 GoalID:10 GoalID:10 GoalID:10 GoalID:10 GoalID:10 GoalID:10 GoalID:10 DietPreferenceID:5 DietPreferenceID:5 DietPreferenceID:5 DietPreferenceID:5 DietPreferenceID:5 DietPreferenceID:5 DietPreferenceID:5 DietPreferenceID:5 DietPreferenceID:5 DietPreferenceID:5 DietPreferenceID:5 DietPreferenceID:5 DietPreferenceID:5 DietPreferenceID:5 DietPreferenceID:5 RegionID:5 RegionID:5 RegionID:5 RegionID:5 RegionID:5 RegionID:5 RegionID:5 RegionID:5 RegionID:5 RegionID:5 RegionID:5 RegionID:5 RegionID:5 RegionID:5 RegionID:5 AllergenID:10 AllergenID:10 AllergenID:10 AllergenID:10 AllergenID:10 AllergenID:10 AllergenID:10 AllergenID:10 AllergenID:10 AllergenID:10 AllergenID:10 AllergenID:10 AllergenID:10 AllergenID:10 AllergenID:10 AllergenID:10 AllergenID:10 AllergenID:10 AllergenID:10 AllergenID:10 AllergenID:10 AllergenID:10 AllergenID:10 AllergenID:10 AllergenID:10 AllergenID:10 AllergenID:10 AllergenID:10 AllergenID:10 AllergenID:10\n"
          ]
        }
      ],
      "source": [
        "# Predict using KNN\n",
        "predicted_labelKNN = predict_label_id_knn(text_to_predict)\n",
        "print(f\"KNN predicted label ID: {predicted_labelKNN}\")"
      ]
    },
    {
      "cell_type": "markdown",
      "metadata": {
        "id": "OSSovs-mzyMR"
      },
      "source": [
        "### Label Extraction for Machine Learning Models"
      ]
    },
    {
      "cell_type": "code",
      "execution_count": null,
      "metadata": {
        "id": "6jIRNp54zyMR"
      },
      "outputs": [],
      "source": [
        "import re\n",
        "\n",
        "# Example predicted label strings for SVM, KNN, and MNB models\n",
        "predictedLabelSVM = predicted_labelSVM\n",
        "predictedLabelKNN = predicted_labelKNN\n",
        "predictedLabelMNB = predicted_labelMNB\n",
        "\n",
        "# Function to extract the leading integer from a predicted label string\n",
        "def extract_leading_integer_from_label(predicted_label):\n",
        "    match = re.match(r'(\\d+)', predicted_label)\n",
        "    if match:\n",
        "        return int(match.group(1))  # Convert the matched digits to an integer\n",
        "    else:\n",
        "        return None  # Return None if no leading integer is found\n",
        "\n",
        "# Extract leading integers for each predicted label\n",
        "leading_integer_svm = extract_leading_integer_from_label(predictedLabelSVM)\n",
        "leading_integer_knn = extract_leading_integer_from_label(predictedLabelKNN)\n",
        "leading_integer_mnb = extract_leading_integer_from_label(predictedLabelMNB)"
      ]
    },
    {
      "cell_type": "markdown",
      "metadata": {
        "id": "nAldvG4gzyMR"
      },
      "source": [
        "### Label Visualization"
      ]
    },
    {
      "cell_type": "code",
      "execution_count": null,
      "metadata": {
        "id": "D1pzk2QFzyMR",
        "colab": {
          "base_uri": "https://localhost:8080/"
        },
        "outputId": "ab6a721e-e5f7-4a32-a6a6-a2fcb2669d49"
      },
      "outputs": [
        {
          "output_type": "stream",
          "name": "stdout",
          "text": [
            "DistilBERT: 26253\n",
            "SVM: 74721\n",
            "KNN: 10624\n",
            "MNB: 26424\n"
          ]
        }
      ],
      "source": [
        "\n",
        "# Create a dictionary with model names as keys and their respective values\n",
        "model_values_dict = {\n",
        "    \"DistilBERT\": predicted_labelDISTILBERT,  # This is the predicted label for DistilBERT\n",
        "    \"SVM\": leading_integer_svm,  # This is the leading integer extracted from the SVM predicted label\n",
        "    \"KNN\": leading_integer_knn,  # This is the leading integer extracted from the KNN predicted label\n",
        "    \"MNB\": leading_integer_mnb   # This is the leading integer extracted from the MNB predicted label\n",
        "}\n",
        "\n",
        "# Print the dictionary to verify its contents\n",
        "for model, value in model_values_dict.items():\n",
        "    print(f\"{model}: {value}\")\n"
      ]
    },
    {
      "cell_type": "code",
      "execution_count": null,
      "metadata": {
        "id": "a4bz5GSNzyMS"
      },
      "outputs": [],
      "source": [
        "# Define variables to hold the label values you want to filter by\n",
        "filter_label_value_svm = leading_integer_svm  # Replace with the actual value for SVM\n",
        "filter_label_value_distilbert = predicted_labelDISTILBERT  # Replace with the actual value for DistilBERT\n",
        "filter_label_value_mnb = leading_integer_mnb  # Replace with the actual value for MNB\n",
        "filter_label_value_knn = leading_integer_knn  # Replace with the actual value for KNN"
      ]
    },
    {
      "cell_type": "markdown",
      "metadata": {
        "id": "CcSk_qbyzyMS"
      },
      "source": [
        "### Extracting relevant part of the text information"
      ]
    },
    {
      "cell_type": "code",
      "execution_count": null,
      "metadata": {
        "id": "ynr0F5RczyMS"
      },
      "outputs": [],
      "source": [
        "# Define a function to extract the text starting from \"Gender\"\n",
        "def extract_text_from_gender(text):\n",
        "    parts = text.split(\"Gender:\")  # Split the text at \"Gender:\"\n",
        "    if len(parts) > 1:\n",
        "        return \"Gender:\" + parts[1]  # Return the part of the text starting from \"Gender:\"\n",
        "    else:\n",
        "        return text  # Return the original text if \"Gender:\" is not found\n"
      ]
    },
    {
      "cell_type": "markdown",
      "metadata": {
        "id": "WLIYVPZSzyMS"
      },
      "source": [
        "### Filtering our Data to Find Corresponding Information To Labels"
      ]
    },
    {
      "cell_type": "code",
      "execution_count": null,
      "metadata": {
        "id": "BB4B6tRdzyMS",
        "colab": {
          "base_uri": "https://localhost:8080/"
        },
        "outputId": "5ea1313f-c083-4a33-d366-2669b65636af"
      },
      "outputs": [
        {
          "output_type": "stream",
          "name": "stdout",
          "text": [
            "SVM: Gender:Female Age:47 Height:180 Weight:91 ActivityLevel:ModeratelyActive GoalID:10 DietPreferenceID:5 RegionID:5 AllergenID:10\n",
            "DistilBERT: Gender:Male Age:40 Height:150 Weight:86 ActivityLevel:LightlyActive GoalID:1 DietPreferenceID:5 RegionID:4 AllergenID:4\n",
            "MNB: Gender:Female Age:48 Height:196 Weight:50 ActivityLevel:ModeratelyActive GoalID:10 DietPreferenceID:4 RegionID:10 AllergenID:4\n",
            "KNN: Gender:Other Age:58 Height:196 Weight:56 ActivityLevel:ModeratelyActive GoalID:10 DietPreferenceID:5 RegionID:5 AllergenID:10\n",
            "Actual: Gender: Male Age: 94 Height: 170 Weight: 78 ActivityLevel: ModeratelyActive GoalID: 9 DietPreferenceID: 2 RegionID: 10 AllergenID: 10\n"
          ]
        }
      ],
      "source": [
        "# Filter the DataFrame for each predicted label and retrieve the corresponding 'text' value\n",
        "\n",
        "# For predicted_labelSVM\n",
        "filtered_df_svm = generalDataframe2.loc[generalDataframe2['label'] == filter_label_value_svm, 'text']\n",
        "corresponding_text_value_svm = extract_text_from_gender(filtered_df_svm.iloc[0]) if not filtered_df_svm.empty else \"No matching text found for the specified label\"\n",
        "\n",
        "# For predicted_labelDISTILBERT\n",
        "filtered_df_distilbert = generalDataframe2.loc[generalDataframe2['label'] == filter_label_value_distilbert, 'text']\n",
        "corresponding_text_value_distilbert = extract_text_from_gender(filtered_df_distilbert.iloc[0]) if not filtered_df_distilbert.empty else \"No matching text found for the specified label\"\n",
        "\n",
        "# For predicted_labelMNB\n",
        "filtered_df_mnb = generalDataframe2.loc[generalDataframe2['label'] == filter_label_value_mnb, 'text']\n",
        "corresponding_text_value_mnb = extract_text_from_gender(filtered_df_mnb.iloc[0]) if not filtered_df_mnb.empty else \"No matching text found for the specified label\"\n",
        "\n",
        "# For predicted_labelKNN\n",
        "filtered_df_knn = generalDataframe2.loc[generalDataframe2['label'] == filter_label_value_knn, 'text']\n",
        "corresponding_text_value_knn = extract_text_from_gender(filtered_df_knn.iloc[0]) if not filtered_df_knn.empty else \"No matching text found for the specified label\"\n",
        "\n",
        "# Print or use the corresponding text values as needed\n",
        "print(\"SVM:\", corresponding_text_value_svm)\n",
        "print(\"DistilBERT:\", corresponding_text_value_distilbert)\n",
        "print(\"MNB:\", corresponding_text_value_mnb)\n",
        "print(\"KNN:\", corresponding_text_value_knn)\n",
        "print(\"Actual:\", extract_text_from_gender(text_to_predict))"
      ]
    },
    {
      "cell_type": "code",
      "source": [
        "!pip install sentence_transformers"
      ],
      "metadata": {
        "colab": {
          "base_uri": "https://localhost:8080/"
        },
        "id": "RmxxJpSd6I6l",
        "outputId": "5fb63fbc-c443-44fd-9f0d-c719e06efccb"
      },
      "execution_count": null,
      "outputs": [
        {
          "output_type": "stream",
          "name": "stdout",
          "text": [
            "Requirement already satisfied: sentence_transformers in /usr/local/lib/python3.10/dist-packages (2.6.1)\n",
            "Requirement already satisfied: transformers<5.0.0,>=4.32.0 in /usr/local/lib/python3.10/dist-packages (from sentence_transformers) (4.38.2)\n",
            "Requirement already satisfied: tqdm in /usr/local/lib/python3.10/dist-packages (from sentence_transformers) (4.66.2)\n",
            "Requirement already satisfied: torch>=1.11.0 in /usr/local/lib/python3.10/dist-packages (from sentence_transformers) (2.2.2)\n",
            "Requirement already satisfied: numpy in /usr/local/lib/python3.10/dist-packages (from sentence_transformers) (1.26.4)\n",
            "Requirement already satisfied: scikit-learn in /usr/local/lib/python3.10/dist-packages (from sentence_transformers) (1.2.2)\n",
            "Requirement already satisfied: scipy in /usr/local/lib/python3.10/dist-packages (from sentence_transformers) (1.11.4)\n",
            "Requirement already satisfied: huggingface-hub>=0.15.1 in /usr/local/lib/python3.10/dist-packages (from sentence_transformers) (0.22.1)\n",
            "Requirement already satisfied: Pillow in /usr/local/lib/python3.10/dist-packages (from sentence_transformers) (9.4.0)\n",
            "Requirement already satisfied: filelock in /usr/local/lib/python3.10/dist-packages (from huggingface-hub>=0.15.1->sentence_transformers) (3.13.3)\n",
            "Requirement already satisfied: fsspec>=2023.5.0 in /usr/local/lib/python3.10/dist-packages (from huggingface-hub>=0.15.1->sentence_transformers) (2024.3.1)\n",
            "Requirement already satisfied: packaging>=20.9 in /usr/local/lib/python3.10/dist-packages (from huggingface-hub>=0.15.1->sentence_transformers) (24.0)\n",
            "Requirement already satisfied: pyyaml>=5.1 in /usr/local/lib/python3.10/dist-packages (from huggingface-hub>=0.15.1->sentence_transformers) (6.0.1)\n",
            "Requirement already satisfied: requests in /usr/local/lib/python3.10/dist-packages (from huggingface-hub>=0.15.1->sentence_transformers) (2.31.0)\n",
            "Requirement already satisfied: typing-extensions>=3.7.4.3 in /usr/local/lib/python3.10/dist-packages (from huggingface-hub>=0.15.1->sentence_transformers) (4.10.0)\n",
            "Requirement already satisfied: sympy in /usr/local/lib/python3.10/dist-packages (from torch>=1.11.0->sentence_transformers) (1.12)\n",
            "Requirement already satisfied: networkx in /usr/local/lib/python3.10/dist-packages (from torch>=1.11.0->sentence_transformers) (3.2.1)\n",
            "Requirement already satisfied: jinja2 in /usr/local/lib/python3.10/dist-packages (from torch>=1.11.0->sentence_transformers) (3.1.3)\n",
            "Requirement already satisfied: nvidia-cuda-nvrtc-cu12==12.1.105 in /usr/local/lib/python3.10/dist-packages (from torch>=1.11.0->sentence_transformers) (12.1.105)\n",
            "Requirement already satisfied: nvidia-cuda-runtime-cu12==12.1.105 in /usr/local/lib/python3.10/dist-packages (from torch>=1.11.0->sentence_transformers) (12.1.105)\n",
            "Requirement already satisfied: nvidia-cuda-cupti-cu12==12.1.105 in /usr/local/lib/python3.10/dist-packages (from torch>=1.11.0->sentence_transformers) (12.1.105)\n",
            "Requirement already satisfied: nvidia-cudnn-cu12==8.9.2.26 in /usr/local/lib/python3.10/dist-packages (from torch>=1.11.0->sentence_transformers) (8.9.2.26)\n",
            "Requirement already satisfied: nvidia-cublas-cu12==12.1.3.1 in /usr/local/lib/python3.10/dist-packages (from torch>=1.11.0->sentence_transformers) (12.1.3.1)\n",
            "Requirement already satisfied: nvidia-cufft-cu12==11.0.2.54 in /usr/local/lib/python3.10/dist-packages (from torch>=1.11.0->sentence_transformers) (11.0.2.54)\n",
            "Requirement already satisfied: nvidia-curand-cu12==10.3.2.106 in /usr/local/lib/python3.10/dist-packages (from torch>=1.11.0->sentence_transformers) (10.3.2.106)\n",
            "Requirement already satisfied: nvidia-cusolver-cu12==11.4.5.107 in /usr/local/lib/python3.10/dist-packages (from torch>=1.11.0->sentence_transformers) (11.4.5.107)\n",
            "Requirement already satisfied: nvidia-cusparse-cu12==12.1.0.106 in /usr/local/lib/python3.10/dist-packages (from torch>=1.11.0->sentence_transformers) (12.1.0.106)\n",
            "Requirement already satisfied: nvidia-nccl-cu12==2.19.3 in /usr/local/lib/python3.10/dist-packages (from torch>=1.11.0->sentence_transformers) (2.19.3)\n",
            "Requirement already satisfied: nvidia-nvtx-cu12==12.1.105 in /usr/local/lib/python3.10/dist-packages (from torch>=1.11.0->sentence_transformers) (12.1.105)\n",
            "Requirement already satisfied: triton==2.2.0 in /usr/local/lib/python3.10/dist-packages (from torch>=1.11.0->sentence_transformers) (2.2.0)\n",
            "Requirement already satisfied: nvidia-nvjitlink-cu12 in /usr/local/lib/python3.10/dist-packages (from nvidia-cusolver-cu12==11.4.5.107->torch>=1.11.0->sentence_transformers) (12.4.99)\n",
            "Requirement already satisfied: regex!=2019.12.17 in /usr/local/lib/python3.10/dist-packages (from transformers<5.0.0,>=4.32.0->sentence_transformers) (2023.12.25)\n",
            "Requirement already satisfied: tokenizers<0.19,>=0.14 in /usr/local/lib/python3.10/dist-packages (from transformers<5.0.0,>=4.32.0->sentence_transformers) (0.15.2)\n",
            "Requirement already satisfied: safetensors>=0.4.1 in /usr/local/lib/python3.10/dist-packages (from transformers<5.0.0,>=4.32.0->sentence_transformers) (0.4.2)\n",
            "Requirement already satisfied: joblib>=1.1.1 in /usr/local/lib/python3.10/dist-packages (from scikit-learn->sentence_transformers) (1.3.2)\n",
            "Requirement already satisfied: threadpoolctl>=2.0.0 in /usr/local/lib/python3.10/dist-packages (from scikit-learn->sentence_transformers) (3.4.0)\n",
            "Requirement already satisfied: MarkupSafe>=2.0 in /usr/local/lib/python3.10/dist-packages (from jinja2->torch>=1.11.0->sentence_transformers) (2.1.5)\n",
            "Requirement already satisfied: charset-normalizer<4,>=2 in /usr/local/lib/python3.10/dist-packages (from requests->huggingface-hub>=0.15.1->sentence_transformers) (3.3.2)\n",
            "Requirement already satisfied: idna<4,>=2.5 in /usr/local/lib/python3.10/dist-packages (from requests->huggingface-hub>=0.15.1->sentence_transformers) (3.6)\n",
            "Requirement already satisfied: urllib3<3,>=1.21.1 in /usr/local/lib/python3.10/dist-packages (from requests->huggingface-hub>=0.15.1->sentence_transformers) (2.2.1)\n",
            "Requirement already satisfied: certifi>=2017.4.17 in /usr/local/lib/python3.10/dist-packages (from requests->huggingface-hub>=0.15.1->sentence_transformers) (2024.2.2)\n",
            "Requirement already satisfied: mpmath>=0.19 in /usr/local/lib/python3.10/dist-packages (from sympy->torch>=1.11.0->sentence_transformers) (1.3.0)\n"
          ]
        }
      ]
    },
    {
      "cell_type": "markdown",
      "metadata": {
        "id": "4v8jUiP-zyMS"
      },
      "source": [
        "# Step 5: Evaluation Of Models (Using Pre-Trained Similarity Calculation Model)"
      ]
    },
    {
      "cell_type": "code",
      "execution_count": null,
      "metadata": {
        "id": "09FLxAzozyMS",
        "colab": {
          "base_uri": "https://localhost:8080/"
        },
        "outputId": "3942f17d-b507-4e92-cf9d-32c184afb6d5"
      },
      "outputs": [
        {
          "output_type": "stream",
          "name": "stdout",
          "text": [
            "Model: DistilBERT, Similarity Score: 0.9644266963005066\n",
            "Model: SVM, Similarity Score: 0.9711982607841492\n",
            "Model: MNB, Similarity Score: 0.9668653607368469\n",
            "Model: KNN, Similarity Score: 0.9599484205245972\n",
            "\n",
            "The most similar model to the info string is: SVM with text: 'Gender:Female Age:47 Height:180 Weight:91 ActivityLevel:ModeratelyActive GoalID:10 DietPreferenceID:5 RegionID:5 AllergenID:10' and a similarity score of: 0.9711982607841492\n"
          ]
        }
      ],
      "source": [
        "from sentence_transformers import SentenceTransformer, util\n",
        "import numpy as np\n",
        "\n",
        "# Initialize the model\n",
        "model = SentenceTransformer('sentence-transformers/all-MiniLM-L6-v2')\n",
        "\n",
        "# Your info string\n",
        "info_string = text_to_predict  # Make sure text_to_predict is defined with your actual text\n",
        "\n",
        "# Dictionary mapping model names to their corresponding text values\n",
        "model_texts = {\n",
        "    \"DistilBERT\": corresponding_text_value_distilbert,\n",
        "    \"SVM\": corresponding_text_value_svm,\n",
        "    \"MNB\": corresponding_text_value_mnb,\n",
        "    \"KNN\": corresponding_text_value_knn\n",
        "}\n",
        "\n",
        "# Filter out empty predicted texts\n",
        "model_texts = {model_name: text for model_name, text in model_texts.items() if text.strip()}\n",
        "\n",
        "# Proceed only if there are non-empty predicted labels\n",
        "if model_texts:\n",
        "    # Encode the info string to get its embedding\n",
        "    info_embedding = model.encode(info_string, convert_to_tensor=True)\n",
        "\n",
        "    # Initialize a dictionary to store similarity scores for each model\n",
        "    similarity_scores = {}\n",
        "\n",
        "    # Variable to store the text of the most similar model\n",
        "    most_similar_text = None\n",
        "\n",
        "    # Iterate over each model text, compute its similarity to the info_string, and store it\n",
        "    for model_name, text in model_texts.items():\n",
        "        # Encode the model's text to get its embedding\n",
        "        text_embedding = model.encode(text, convert_to_tensor=True)\n",
        "\n",
        "        # Compute cosine similarity\n",
        "        similarity_score = util.pytorch_cos_sim(info_embedding, text_embedding).item()\n",
        "\n",
        "        # Store the similarity score\n",
        "        similarity_scores[model_name] = similarity_score\n",
        "\n",
        "        # Print the model name and similarity score with the info_string\n",
        "        print(f\"Model: {model_name}, Similarity Score: {similarity_score}\")\n",
        "\n",
        "        # Update the most similar text if this score is the highest\n",
        "        if most_similar_text is None or similarity_score > similarity_scores.get(most_similar_model, 0):\n",
        "            most_similar_model = model_name\n",
        "            most_similar_text = text\n",
        "            highest_similarity_score = similarity_score\n",
        "\n",
        "    # Print the most similar model, its text, and similarity score\n",
        "    print(f\"\\nThe most similar model to the info string is: {most_similar_model} with text: '{most_similar_text}' and a similarity score of: {highest_similarity_score}\")\n",
        "else:\n",
        "    print(\"All predicted labels are empty.\")\n"
      ]
    },
    {
      "cell_type": "markdown",
      "metadata": {
        "id": "Ao0epnatzyMS"
      },
      "source": [
        "### Checking manually"
      ]
    },
    {
      "cell_type": "code",
      "execution_count": null,
      "metadata": {
        "id": "PKuDjr4tzyMS",
        "colab": {
          "base_uri": "https://localhost:8080/"
        },
        "outputId": "1bb6eb71-d01e-4022-fbaf-cf94ce60aa0b"
      },
      "outputs": [
        {
          "output_type": "stream",
          "name": "stdout",
          "text": [
            "\n",
            "Gender: Male Age: 94 Height: 170 Weight: 78 ActivityLevel: ModeratelyActive GoalID: 9 DietPreferenceID: 2 RegionID: 10 AllergenID: 10\n",
            "Gender:Female Age:47 Height:180 Weight:91 ActivityLevel:ModeratelyActive GoalID:10 DietPreferenceID:5 RegionID:5 AllergenID:10\n"
          ]
        }
      ],
      "source": [
        "print(text_to_predict)\n",
        "print(most_similar_text)"
      ]
    },
    {
      "cell_type": "code",
      "source": [
        "import pickle\n",
        "\n",
        "# Save the trained DistilBert model to a .pkl file\n",
        "with open('distilbert_trained_model.pkl', 'wb') as model_file:\n",
        "    pickle.dump(modelBert, model_file)\n",
        "\n",
        "# Since the tokenizer is not a standard Python object, it's better to save it using its own save_pretrained method\n",
        "tokenizer.save_pretrained('distilbert_trained_tokenizer')\n",
        "\n",
        "# Provide the paths for downloading\n",
        "distilbert_model_pkl_path = 'distilbert_trained_model.pkl'\n",
        "distilbert_tokenizer_path = 'distilbert_trained_tokenizer'\n",
        "\n",
        "distilbert_model_pkl_path, distilbert_tokenizer_path"
      ],
      "metadata": {
        "colab": {
          "base_uri": "https://localhost:8080/"
        },
        "id": "hA6R6Zr2HBay",
        "outputId": "1c6191df-3cba-4fa0-9534-945027d25d9b"
      },
      "execution_count": null,
      "outputs": [
        {
          "output_type": "execute_result",
          "data": {
            "text/plain": [
              "('distilbert_trained_model.pkl', 'distilbert_trained_tokenizer')"
            ]
          },
          "metadata": {},
          "execution_count": 43
        }
      ]
    }
  ],
  "metadata": {
    "kernelspec": {
      "display_name": "Python 3",
      "name": "python3"
    },
    "language_info": {
      "codemirror_mode": {
        "name": "ipython",
        "version": 3
      },
      "file_extension": ".py",
      "mimetype": "text/x-python",
      "name": "python",
      "nbconvert_exporter": "python",
      "pygments_lexer": "ipython3",
      "version": "3.10.11"
    },
    "colab": {
      "provenance": [],
      "gpuType": "T4"
    },
    "widgets": {
      "application/vnd.jupyter.widget-state+json": {
        "9cf066d42c304f518c78392c84c40cee": {
          "model_module": "@jupyter-widgets/controls",
          "model_name": "HBoxModel",
          "model_module_version": "1.5.0",
          "state": {
            "_dom_classes": [],
            "_model_module": "@jupyter-widgets/controls",
            "_model_module_version": "1.5.0",
            "_model_name": "HBoxModel",
            "_view_count": null,
            "_view_module": "@jupyter-widgets/controls",
            "_view_module_version": "1.5.0",
            "_view_name": "HBoxView",
            "box_style": "",
            "children": [
              "IPY_MODEL_6260382652404dd295a8e0512c8581a1",
              "IPY_MODEL_5eff9216415b4addba1b1db0aec38779",
              "IPY_MODEL_aa11600f08394e41b8928777730031ca"
            ],
            "layout": "IPY_MODEL_3ff0e91544ec4896a7308843fc6917bd"
          }
        },
        "6260382652404dd295a8e0512c8581a1": {
          "model_module": "@jupyter-widgets/controls",
          "model_name": "HTMLModel",
          "model_module_version": "1.5.0",
          "state": {
            "_dom_classes": [],
            "_model_module": "@jupyter-widgets/controls",
            "_model_module_version": "1.5.0",
            "_model_name": "HTMLModel",
            "_view_count": null,
            "_view_module": "@jupyter-widgets/controls",
            "_view_module_version": "1.5.0",
            "_view_name": "HTMLView",
            "description": "",
            "description_tooltip": null,
            "layout": "IPY_MODEL_0fe376366eb44538a2eda149f4b881d3",
            "placeholder": "​",
            "style": "IPY_MODEL_c7aec026bb6c4f09a8809f459d479531",
            "value": "Map: 100%"
          }
        },
        "5eff9216415b4addba1b1db0aec38779": {
          "model_module": "@jupyter-widgets/controls",
          "model_name": "FloatProgressModel",
          "model_module_version": "1.5.0",
          "state": {
            "_dom_classes": [],
            "_model_module": "@jupyter-widgets/controls",
            "_model_module_version": "1.5.0",
            "_model_name": "FloatProgressModel",
            "_view_count": null,
            "_view_module": "@jupyter-widgets/controls",
            "_view_module_version": "1.5.0",
            "_view_name": "ProgressView",
            "bar_style": "success",
            "description": "",
            "description_tooltip": null,
            "layout": "IPY_MODEL_c81b01dda0c140d1a39b24765ece6f9b",
            "max": 4995,
            "min": 0,
            "orientation": "horizontal",
            "style": "IPY_MODEL_5a089aedbfa44291a62137aab9a913c0",
            "value": 4995
          }
        },
        "aa11600f08394e41b8928777730031ca": {
          "model_module": "@jupyter-widgets/controls",
          "model_name": "HTMLModel",
          "model_module_version": "1.5.0",
          "state": {
            "_dom_classes": [],
            "_model_module": "@jupyter-widgets/controls",
            "_model_module_version": "1.5.0",
            "_model_name": "HTMLModel",
            "_view_count": null,
            "_view_module": "@jupyter-widgets/controls",
            "_view_module_version": "1.5.0",
            "_view_name": "HTMLView",
            "description": "",
            "description_tooltip": null,
            "layout": "IPY_MODEL_2de4ee59cea04026a5c9cf77ecb743ef",
            "placeholder": "​",
            "style": "IPY_MODEL_cffdf18f4b7544d2b28e01b68719286e",
            "value": " 4995/4995 [00:04&lt;00:00, 1072.74 examples/s]"
          }
        },
        "3ff0e91544ec4896a7308843fc6917bd": {
          "model_module": "@jupyter-widgets/base",
          "model_name": "LayoutModel",
          "model_module_version": "1.2.0",
          "state": {
            "_model_module": "@jupyter-widgets/base",
            "_model_module_version": "1.2.0",
            "_model_name": "LayoutModel",
            "_view_count": null,
            "_view_module": "@jupyter-widgets/base",
            "_view_module_version": "1.2.0",
            "_view_name": "LayoutView",
            "align_content": null,
            "align_items": null,
            "align_self": null,
            "border": null,
            "bottom": null,
            "display": null,
            "flex": null,
            "flex_flow": null,
            "grid_area": null,
            "grid_auto_columns": null,
            "grid_auto_flow": null,
            "grid_auto_rows": null,
            "grid_column": null,
            "grid_gap": null,
            "grid_row": null,
            "grid_template_areas": null,
            "grid_template_columns": null,
            "grid_template_rows": null,
            "height": null,
            "justify_content": null,
            "justify_items": null,
            "left": null,
            "margin": null,
            "max_height": null,
            "max_width": null,
            "min_height": null,
            "min_width": null,
            "object_fit": null,
            "object_position": null,
            "order": null,
            "overflow": null,
            "overflow_x": null,
            "overflow_y": null,
            "padding": null,
            "right": null,
            "top": null,
            "visibility": null,
            "width": null
          }
        },
        "0fe376366eb44538a2eda149f4b881d3": {
          "model_module": "@jupyter-widgets/base",
          "model_name": "LayoutModel",
          "model_module_version": "1.2.0",
          "state": {
            "_model_module": "@jupyter-widgets/base",
            "_model_module_version": "1.2.0",
            "_model_name": "LayoutModel",
            "_view_count": null,
            "_view_module": "@jupyter-widgets/base",
            "_view_module_version": "1.2.0",
            "_view_name": "LayoutView",
            "align_content": null,
            "align_items": null,
            "align_self": null,
            "border": null,
            "bottom": null,
            "display": null,
            "flex": null,
            "flex_flow": null,
            "grid_area": null,
            "grid_auto_columns": null,
            "grid_auto_flow": null,
            "grid_auto_rows": null,
            "grid_column": null,
            "grid_gap": null,
            "grid_row": null,
            "grid_template_areas": null,
            "grid_template_columns": null,
            "grid_template_rows": null,
            "height": null,
            "justify_content": null,
            "justify_items": null,
            "left": null,
            "margin": null,
            "max_height": null,
            "max_width": null,
            "min_height": null,
            "min_width": null,
            "object_fit": null,
            "object_position": null,
            "order": null,
            "overflow": null,
            "overflow_x": null,
            "overflow_y": null,
            "padding": null,
            "right": null,
            "top": null,
            "visibility": null,
            "width": null
          }
        },
        "c7aec026bb6c4f09a8809f459d479531": {
          "model_module": "@jupyter-widgets/controls",
          "model_name": "DescriptionStyleModel",
          "model_module_version": "1.5.0",
          "state": {
            "_model_module": "@jupyter-widgets/controls",
            "_model_module_version": "1.5.0",
            "_model_name": "DescriptionStyleModel",
            "_view_count": null,
            "_view_module": "@jupyter-widgets/base",
            "_view_module_version": "1.2.0",
            "_view_name": "StyleView",
            "description_width": ""
          }
        },
        "c81b01dda0c140d1a39b24765ece6f9b": {
          "model_module": "@jupyter-widgets/base",
          "model_name": "LayoutModel",
          "model_module_version": "1.2.0",
          "state": {
            "_model_module": "@jupyter-widgets/base",
            "_model_module_version": "1.2.0",
            "_model_name": "LayoutModel",
            "_view_count": null,
            "_view_module": "@jupyter-widgets/base",
            "_view_module_version": "1.2.0",
            "_view_name": "LayoutView",
            "align_content": null,
            "align_items": null,
            "align_self": null,
            "border": null,
            "bottom": null,
            "display": null,
            "flex": null,
            "flex_flow": null,
            "grid_area": null,
            "grid_auto_columns": null,
            "grid_auto_flow": null,
            "grid_auto_rows": null,
            "grid_column": null,
            "grid_gap": null,
            "grid_row": null,
            "grid_template_areas": null,
            "grid_template_columns": null,
            "grid_template_rows": null,
            "height": null,
            "justify_content": null,
            "justify_items": null,
            "left": null,
            "margin": null,
            "max_height": null,
            "max_width": null,
            "min_height": null,
            "min_width": null,
            "object_fit": null,
            "object_position": null,
            "order": null,
            "overflow": null,
            "overflow_x": null,
            "overflow_y": null,
            "padding": null,
            "right": null,
            "top": null,
            "visibility": null,
            "width": null
          }
        },
        "5a089aedbfa44291a62137aab9a913c0": {
          "model_module": "@jupyter-widgets/controls",
          "model_name": "ProgressStyleModel",
          "model_module_version": "1.5.0",
          "state": {
            "_model_module": "@jupyter-widgets/controls",
            "_model_module_version": "1.5.0",
            "_model_name": "ProgressStyleModel",
            "_view_count": null,
            "_view_module": "@jupyter-widgets/base",
            "_view_module_version": "1.2.0",
            "_view_name": "StyleView",
            "bar_color": null,
            "description_width": ""
          }
        },
        "2de4ee59cea04026a5c9cf77ecb743ef": {
          "model_module": "@jupyter-widgets/base",
          "model_name": "LayoutModel",
          "model_module_version": "1.2.0",
          "state": {
            "_model_module": "@jupyter-widgets/base",
            "_model_module_version": "1.2.0",
            "_model_name": "LayoutModel",
            "_view_count": null,
            "_view_module": "@jupyter-widgets/base",
            "_view_module_version": "1.2.0",
            "_view_name": "LayoutView",
            "align_content": null,
            "align_items": null,
            "align_self": null,
            "border": null,
            "bottom": null,
            "display": null,
            "flex": null,
            "flex_flow": null,
            "grid_area": null,
            "grid_auto_columns": null,
            "grid_auto_flow": null,
            "grid_auto_rows": null,
            "grid_column": null,
            "grid_gap": null,
            "grid_row": null,
            "grid_template_areas": null,
            "grid_template_columns": null,
            "grid_template_rows": null,
            "height": null,
            "justify_content": null,
            "justify_items": null,
            "left": null,
            "margin": null,
            "max_height": null,
            "max_width": null,
            "min_height": null,
            "min_width": null,
            "object_fit": null,
            "object_position": null,
            "order": null,
            "overflow": null,
            "overflow_x": null,
            "overflow_y": null,
            "padding": null,
            "right": null,
            "top": null,
            "visibility": null,
            "width": null
          }
        },
        "cffdf18f4b7544d2b28e01b68719286e": {
          "model_module": "@jupyter-widgets/controls",
          "model_name": "DescriptionStyleModel",
          "model_module_version": "1.5.0",
          "state": {
            "_model_module": "@jupyter-widgets/controls",
            "_model_module_version": "1.5.0",
            "_model_name": "DescriptionStyleModel",
            "_view_count": null,
            "_view_module": "@jupyter-widgets/base",
            "_view_module_version": "1.2.0",
            "_view_name": "StyleView",
            "description_width": ""
          }
        },
        "e9af6b55f44c4e65a4129a1b3c7896c3": {
          "model_module": "@jupyter-widgets/controls",
          "model_name": "HBoxModel",
          "model_module_version": "1.5.0",
          "state": {
            "_dom_classes": [],
            "_model_module": "@jupyter-widgets/controls",
            "_model_module_version": "1.5.0",
            "_model_name": "HBoxModel",
            "_view_count": null,
            "_view_module": "@jupyter-widgets/controls",
            "_view_module_version": "1.5.0",
            "_view_name": "HBoxView",
            "box_style": "",
            "children": [
              "IPY_MODEL_c8bd8df9ae7d4451a43da0f6b018a6c1",
              "IPY_MODEL_8fb94f1e8d734107a973d7e46a496e70",
              "IPY_MODEL_06e496a992be4bf4a2bf631490914c1e"
            ],
            "layout": "IPY_MODEL_f8eb3d7c3787495cadc49283942aa4a7"
          }
        },
        "c8bd8df9ae7d4451a43da0f6b018a6c1": {
          "model_module": "@jupyter-widgets/controls",
          "model_name": "HTMLModel",
          "model_module_version": "1.5.0",
          "state": {
            "_dom_classes": [],
            "_model_module": "@jupyter-widgets/controls",
            "_model_module_version": "1.5.0",
            "_model_name": "HTMLModel",
            "_view_count": null,
            "_view_module": "@jupyter-widgets/controls",
            "_view_module_version": "1.5.0",
            "_view_name": "HTMLView",
            "description": "",
            "description_tooltip": null,
            "layout": "IPY_MODEL_0055f61efe214df0812a0baafa4194e4",
            "placeholder": "​",
            "style": "IPY_MODEL_c8fb4edfe04a475eb080ecedf84866e5",
            "value": "Map: 100%"
          }
        },
        "8fb94f1e8d734107a973d7e46a496e70": {
          "model_module": "@jupyter-widgets/controls",
          "model_name": "FloatProgressModel",
          "model_module_version": "1.5.0",
          "state": {
            "_dom_classes": [],
            "_model_module": "@jupyter-widgets/controls",
            "_model_module_version": "1.5.0",
            "_model_name": "FloatProgressModel",
            "_view_count": null,
            "_view_module": "@jupyter-widgets/controls",
            "_view_module_version": "1.5.0",
            "_view_name": "ProgressView",
            "bar_style": "success",
            "description": "",
            "description_tooltip": null,
            "layout": "IPY_MODEL_059f27fbc4ed4f91bc5f3e976e1ca3a1",
            "max": 5,
            "min": 0,
            "orientation": "horizontal",
            "style": "IPY_MODEL_46872230dae94de1815e7d0c2969fe90",
            "value": 5
          }
        },
        "06e496a992be4bf4a2bf631490914c1e": {
          "model_module": "@jupyter-widgets/controls",
          "model_name": "HTMLModel",
          "model_module_version": "1.5.0",
          "state": {
            "_dom_classes": [],
            "_model_module": "@jupyter-widgets/controls",
            "_model_module_version": "1.5.0",
            "_model_name": "HTMLModel",
            "_view_count": null,
            "_view_module": "@jupyter-widgets/controls",
            "_view_module_version": "1.5.0",
            "_view_name": "HTMLView",
            "description": "",
            "description_tooltip": null,
            "layout": "IPY_MODEL_d76417de791c4140ab7a8e4d2993e732",
            "placeholder": "​",
            "style": "IPY_MODEL_c87d2a46757c4eda81d116e756e32611",
            "value": " 5/5 [00:00&lt;00:00, 110.39 examples/s]"
          }
        },
        "f8eb3d7c3787495cadc49283942aa4a7": {
          "model_module": "@jupyter-widgets/base",
          "model_name": "LayoutModel",
          "model_module_version": "1.2.0",
          "state": {
            "_model_module": "@jupyter-widgets/base",
            "_model_module_version": "1.2.0",
            "_model_name": "LayoutModel",
            "_view_count": null,
            "_view_module": "@jupyter-widgets/base",
            "_view_module_version": "1.2.0",
            "_view_name": "LayoutView",
            "align_content": null,
            "align_items": null,
            "align_self": null,
            "border": null,
            "bottom": null,
            "display": null,
            "flex": null,
            "flex_flow": null,
            "grid_area": null,
            "grid_auto_columns": null,
            "grid_auto_flow": null,
            "grid_auto_rows": null,
            "grid_column": null,
            "grid_gap": null,
            "grid_row": null,
            "grid_template_areas": null,
            "grid_template_columns": null,
            "grid_template_rows": null,
            "height": null,
            "justify_content": null,
            "justify_items": null,
            "left": null,
            "margin": null,
            "max_height": null,
            "max_width": null,
            "min_height": null,
            "min_width": null,
            "object_fit": null,
            "object_position": null,
            "order": null,
            "overflow": null,
            "overflow_x": null,
            "overflow_y": null,
            "padding": null,
            "right": null,
            "top": null,
            "visibility": null,
            "width": null
          }
        },
        "0055f61efe214df0812a0baafa4194e4": {
          "model_module": "@jupyter-widgets/base",
          "model_name": "LayoutModel",
          "model_module_version": "1.2.0",
          "state": {
            "_model_module": "@jupyter-widgets/base",
            "_model_module_version": "1.2.0",
            "_model_name": "LayoutModel",
            "_view_count": null,
            "_view_module": "@jupyter-widgets/base",
            "_view_module_version": "1.2.0",
            "_view_name": "LayoutView",
            "align_content": null,
            "align_items": null,
            "align_self": null,
            "border": null,
            "bottom": null,
            "display": null,
            "flex": null,
            "flex_flow": null,
            "grid_area": null,
            "grid_auto_columns": null,
            "grid_auto_flow": null,
            "grid_auto_rows": null,
            "grid_column": null,
            "grid_gap": null,
            "grid_row": null,
            "grid_template_areas": null,
            "grid_template_columns": null,
            "grid_template_rows": null,
            "height": null,
            "justify_content": null,
            "justify_items": null,
            "left": null,
            "margin": null,
            "max_height": null,
            "max_width": null,
            "min_height": null,
            "min_width": null,
            "object_fit": null,
            "object_position": null,
            "order": null,
            "overflow": null,
            "overflow_x": null,
            "overflow_y": null,
            "padding": null,
            "right": null,
            "top": null,
            "visibility": null,
            "width": null
          }
        },
        "c8fb4edfe04a475eb080ecedf84866e5": {
          "model_module": "@jupyter-widgets/controls",
          "model_name": "DescriptionStyleModel",
          "model_module_version": "1.5.0",
          "state": {
            "_model_module": "@jupyter-widgets/controls",
            "_model_module_version": "1.5.0",
            "_model_name": "DescriptionStyleModel",
            "_view_count": null,
            "_view_module": "@jupyter-widgets/base",
            "_view_module_version": "1.2.0",
            "_view_name": "StyleView",
            "description_width": ""
          }
        },
        "059f27fbc4ed4f91bc5f3e976e1ca3a1": {
          "model_module": "@jupyter-widgets/base",
          "model_name": "LayoutModel",
          "model_module_version": "1.2.0",
          "state": {
            "_model_module": "@jupyter-widgets/base",
            "_model_module_version": "1.2.0",
            "_model_name": "LayoutModel",
            "_view_count": null,
            "_view_module": "@jupyter-widgets/base",
            "_view_module_version": "1.2.0",
            "_view_name": "LayoutView",
            "align_content": null,
            "align_items": null,
            "align_self": null,
            "border": null,
            "bottom": null,
            "display": null,
            "flex": null,
            "flex_flow": null,
            "grid_area": null,
            "grid_auto_columns": null,
            "grid_auto_flow": null,
            "grid_auto_rows": null,
            "grid_column": null,
            "grid_gap": null,
            "grid_row": null,
            "grid_template_areas": null,
            "grid_template_columns": null,
            "grid_template_rows": null,
            "height": null,
            "justify_content": null,
            "justify_items": null,
            "left": null,
            "margin": null,
            "max_height": null,
            "max_width": null,
            "min_height": null,
            "min_width": null,
            "object_fit": null,
            "object_position": null,
            "order": null,
            "overflow": null,
            "overflow_x": null,
            "overflow_y": null,
            "padding": null,
            "right": null,
            "top": null,
            "visibility": null,
            "width": null
          }
        },
        "46872230dae94de1815e7d0c2969fe90": {
          "model_module": "@jupyter-widgets/controls",
          "model_name": "ProgressStyleModel",
          "model_module_version": "1.5.0",
          "state": {
            "_model_module": "@jupyter-widgets/controls",
            "_model_module_version": "1.5.0",
            "_model_name": "ProgressStyleModel",
            "_view_count": null,
            "_view_module": "@jupyter-widgets/base",
            "_view_module_version": "1.2.0",
            "_view_name": "StyleView",
            "bar_color": null,
            "description_width": ""
          }
        },
        "d76417de791c4140ab7a8e4d2993e732": {
          "model_module": "@jupyter-widgets/base",
          "model_name": "LayoutModel",
          "model_module_version": "1.2.0",
          "state": {
            "_model_module": "@jupyter-widgets/base",
            "_model_module_version": "1.2.0",
            "_model_name": "LayoutModel",
            "_view_count": null,
            "_view_module": "@jupyter-widgets/base",
            "_view_module_version": "1.2.0",
            "_view_name": "LayoutView",
            "align_content": null,
            "align_items": null,
            "align_self": null,
            "border": null,
            "bottom": null,
            "display": null,
            "flex": null,
            "flex_flow": null,
            "grid_area": null,
            "grid_auto_columns": null,
            "grid_auto_flow": null,
            "grid_auto_rows": null,
            "grid_column": null,
            "grid_gap": null,
            "grid_row": null,
            "grid_template_areas": null,
            "grid_template_columns": null,
            "grid_template_rows": null,
            "height": null,
            "justify_content": null,
            "justify_items": null,
            "left": null,
            "margin": null,
            "max_height": null,
            "max_width": null,
            "min_height": null,
            "min_width": null,
            "object_fit": null,
            "object_position": null,
            "order": null,
            "overflow": null,
            "overflow_x": null,
            "overflow_y": null,
            "padding": null,
            "right": null,
            "top": null,
            "visibility": null,
            "width": null
          }
        },
        "c87d2a46757c4eda81d116e756e32611": {
          "model_module": "@jupyter-widgets/controls",
          "model_name": "DescriptionStyleModel",
          "model_module_version": "1.5.0",
          "state": {
            "_model_module": "@jupyter-widgets/controls",
            "_model_module_version": "1.5.0",
            "_model_name": "DescriptionStyleModel",
            "_view_count": null,
            "_view_module": "@jupyter-widgets/base",
            "_view_module_version": "1.2.0",
            "_view_name": "StyleView",
            "description_width": ""
          }
        }
      }
    },
    "accelerator": "GPU"
  },
  "nbformat": 4,
  "nbformat_minor": 0
}